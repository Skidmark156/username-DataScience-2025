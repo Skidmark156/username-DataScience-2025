{
  "cells": [
    {
      "cell_type": "markdown",
      "metadata": {
        "id": "view-in-github",
        "colab_type": "text"
      },
      "source": [
        "<a href=\"https://colab.research.google.com/github/Skidmark156/username-DataScience-2025/blob/main/completed/07_using_help_and_docs.ipynb\" target=\"_parent\"><img src=\"https://colab.research.google.com/assets/colab-badge.svg\" alt=\"Open In Colab\"/></a>"
      ]
    },
    {
      "cell_type": "markdown",
      "metadata": {
        "id": "PInRS57DGb53"
      },
      "source": [
        "# 📚 07 - Using Help and Documentation\n",
        "\n",
        "One of the most important skills in programming is knowing **how to get help**.  \n",
        "Jupyter/IPython make it easy to explore functions, classes, and objects.\n",
        "\n",
        "In this notebook you will learn:\n",
        "- Using `?` and `??` to view docstrings and source code\n",
        "- The built-in `help()` function\n",
        "- Tab completion for attributes and methods\n",
        "- Accessing external documentation\n"
      ],
      "id": "PInRS57DGb53"
    },
    {
      "cell_type": "markdown",
      "metadata": {
        "id": "LKp55wYXGb55"
      },
      "source": [
        "## 1. Using `?` for Quick Help"
      ],
      "id": "LKp55wYXGb55"
    },
    {
      "cell_type": "code",
      "execution_count": null,
      "metadata": {
        "colab": {
          "base_uri": "https://localhost:8080/",
          "height": 106
        },
        "id": "aeZmj0TkGb56",
        "outputId": "6cb363b3-c4d2-4b1d-fe9e-2cb2ff699727"
      },
      "outputs": [
        {
          "output_type": "error",
          "ename": "SyntaxError",
          "evalue": "invalid syntax (ipython-input-3312243587.py, line 1)",
          "traceback": [
            "\u001b[0;36m  File \u001b[0;32m\"/tmp/ipython-input-3312243587.py\"\u001b[0;36m, line \u001b[0;32m1\u001b[0m\n\u001b[0;31m    len?  # Show help for the built-in len() function\u001b[0m\n\u001b[0m       ^\u001b[0m\n\u001b[0;31mSyntaxError\u001b[0m\u001b[0;31m:\u001b[0m invalid syntax\n"
          ]
        }
      ],
      "source": [
        "len?  # Show help for the built-in len() function"
      ],
      "id": "aeZmj0TkGb56"
    },
    {
      "cell_type": "code",
      "execution_count": null,
      "metadata": {
        "id": "xOmYP-LzGb57"
      },
      "outputs": [],
      "source": [
        "print?  # Show help for print()"
      ],
      "id": "xOmYP-LzGb57"
    },
    {
      "cell_type": "markdown",
      "metadata": {
        "id": "4UR3_XnNGb57"
      },
      "source": [
        "✅ **Your Turn**: Use `?` to check the documentation for `range` and `dict`."
      ],
      "id": "4UR3_XnNGb57"
    },
    {
      "cell_type": "code",
      "source": [
        "range?   # Quick docs for range()\n",
        "dict?    # Quick docs for dict()"
      ],
      "metadata": {
        "colab": {
          "base_uri": "https://localhost:8080/",
          "height": 106
        },
        "id": "6qTHzcFbGhDA",
        "outputId": "b7fbae67-779d-41d0-afdf-a4c55236b607"
      },
      "id": "6qTHzcFbGhDA",
      "execution_count": null,
      "outputs": [
        {
          "output_type": "error",
          "ename": "SyntaxError",
          "evalue": "invalid syntax (ipython-input-1463103048.py, line 1)",
          "traceback": [
            "\u001b[0;36m  File \u001b[0;32m\"/tmp/ipython-input-1463103048.py\"\u001b[0;36m, line \u001b[0;32m1\u001b[0m\n\u001b[0;31m    range?   # Quick docs for range()\u001b[0m\n\u001b[0m         ^\u001b[0m\n\u001b[0;31mSyntaxError\u001b[0m\u001b[0;31m:\u001b[0m invalid syntax\n"
          ]
        }
      ]
    },
    {
      "cell_type": "markdown",
      "metadata": {
        "id": "-IXy2GTHGb58"
      },
      "source": [
        "## 2. Using `??` for Source Code (if available)"
      ],
      "id": "-IXy2GTHGb58"
    },
    {
      "cell_type": "code",
      "execution_count": null,
      "metadata": {
        "id": "SprLeidqGb58"
      },
      "outputs": [],
      "source": [
        "sum??  # Try to view source code for sum()"
      ],
      "id": "SprLeidqGb58"
    },
    {
      "cell_type": "markdown",
      "metadata": {
        "id": "X1rTwv2GGb59"
      },
      "source": [
        "✅ **Your Turn**: Use `??` on `pd.read_csv` (after importing pandas) to see if you can view more details."
      ],
      "id": "X1rTwv2GGb59"
    },
    {
      "cell_type": "code",
      "source": [
        "import pandas as pd\n",
        "\n",
        "pd.read_csv??   # May show more details or source if available"
      ],
      "metadata": {
        "colab": {
          "base_uri": "https://localhost:8080/",
          "height": 106
        },
        "id": "vL2yxRr3GkUq",
        "outputId": "65d90cad-bd00-4582-cd71-5bd8eef12eb2"
      },
      "id": "vL2yxRr3GkUq",
      "execution_count": null,
      "outputs": [
        {
          "output_type": "error",
          "ename": "SyntaxError",
          "evalue": "invalid syntax (ipython-input-796207469.py, line 3)",
          "traceback": [
            "\u001b[0;36m  File \u001b[0;32m\"/tmp/ipython-input-796207469.py\"\u001b[0;36m, line \u001b[0;32m3\u001b[0m\n\u001b[0;31m    pd.read_csv??   # May show more details or source if available\u001b[0m\n\u001b[0m               ^\u001b[0m\n\u001b[0;31mSyntaxError\u001b[0m\u001b[0;31m:\u001b[0m invalid syntax\n"
          ]
        }
      ]
    },
    {
      "cell_type": "markdown",
      "metadata": {
        "id": "wem_7FwwGb59"
      },
      "source": [
        "## 3. The `help()` Function"
      ],
      "id": "wem_7FwwGb59"
    },
    {
      "cell_type": "code",
      "execution_count": null,
      "metadata": {
        "id": "Kk01o_DBGb59"
      },
      "outputs": [],
      "source": [
        "help(len)"
      ],
      "id": "Kk01o_DBGb59"
    },
    {
      "cell_type": "code",
      "execution_count": null,
      "metadata": {
        "id": "pymJoQ5FGb5-"
      },
      "outputs": [],
      "source": [
        "import math\n",
        "help(math.sqrt)"
      ],
      "id": "pymJoQ5FGb5-"
    },
    {
      "cell_type": "markdown",
      "metadata": {
        "id": "ilWnyuvtGb5-"
      },
      "source": [
        "✅ **Your Turn**: Use `help()` to explore `list.append` or `str.upper`."
      ],
      "id": "ilWnyuvtGb5-"
    },
    {
      "cell_type": "code",
      "source": [
        "help(list.append)   # Documentation for list.append\n",
        "help(str.upper)     # Documentation for str.upper"
      ],
      "metadata": {
        "colab": {
          "base_uri": "https://localhost:8080/"
        },
        "id": "PpTB8madG7T-",
        "outputId": "bb704b10-86af-4542-d14e-f5f9dea35a0b"
      },
      "id": "PpTB8madG7T-",
      "execution_count": null,
      "outputs": [
        {
          "output_type": "stream",
          "name": "stdout",
          "text": [
            "Help on method_descriptor:\n",
            "\n",
            "append(self, object, /) unbound builtins.list method\n",
            "    Append object to the end of the list.\n",
            "\n",
            "Help on method_descriptor:\n",
            "\n",
            "upper(self, /) unbound builtins.str method\n",
            "    Return a copy of the string converted to uppercase.\n",
            "\n"
          ]
        }
      ]
    },
    {
      "cell_type": "markdown",
      "metadata": {
        "id": "DQPro_7XGb5-"
      },
      "source": [
        "## 4. Tab Completion"
      ],
      "id": "DQPro_7XGb5-"
    },
    {
      "cell_type": "markdown",
      "metadata": {
        "id": "V7Up-9RJGb5_"
      },
      "source": [
        "In a Jupyter cell, type an object name followed by a dot and press `Tab` to see available methods.\n",
        "\n",
        "Example:\n",
        "```python\n",
        "mylist = []\n",
        "mylist.<TAB>\n",
        "```\n",
        "will show you all methods like `append`, `clear`, `copy`, etc."
      ],
      "id": "V7Up-9RJGb5_"
    },
    {
      "cell_type": "markdown",
      "metadata": {
        "id": "SEdd32ZeGb5_"
      },
      "source": [
        "✅ **Your Turn**: Create a dictionary and use tab completion to explore its methods."
      ],
      "id": "SEdd32ZeGb5_"
    },
    {
      "cell_type": "code",
      "source": [
        "mydict = {\"a\": 1, \"b\": 2}\n",
        "mydict.   # then press TAB"
      ],
      "metadata": {
        "colab": {
          "base_uri": "https://localhost:8080/",
          "height": 106
        },
        "id": "DBWDOOpaG9tT",
        "outputId": "c1045923-705a-4655-8422-2a30feb55eba"
      },
      "id": "DBWDOOpaG9tT",
      "execution_count": null,
      "outputs": [
        {
          "output_type": "error",
          "ename": "SyntaxError",
          "evalue": "invalid syntax (ipython-input-762941866.py, line 2)",
          "traceback": [
            "\u001b[0;36m  File \u001b[0;32m\"/tmp/ipython-input-762941866.py\"\u001b[0;36m, line \u001b[0;32m2\u001b[0m\n\u001b[0;31m    mydict.   # then press TAB\u001b[0m\n\u001b[0m              ^\u001b[0m\n\u001b[0;31mSyntaxError\u001b[0m\u001b[0;31m:\u001b[0m invalid syntax\n"
          ]
        }
      ]
    },
    {
      "cell_type": "markdown",
      "metadata": {
        "id": "U-qOsjcFGb5_"
      },
      "source": [
        "## 5. External Documentation"
      ],
      "id": "U-qOsjcFGb5_"
    },
    {
      "cell_type": "markdown",
      "metadata": {
        "id": "g2Bx2gbrGb5_"
      },
      "source": [
        "- Many libraries (like Pandas, NumPy, Matplotlib) have excellent online docs.\n",
        "- Example: [https://pandas.pydata.org/docs/](https://pandas.pydata.org/docs/)\n",
        "- You can Google: `pandas read_csv site:pandas.pydata.org`"
      ],
      "id": "g2Bx2gbrGb5_"
    },
    {
      "cell_type": "markdown",
      "metadata": {
        "id": "pHUTku7RGb6A"
      },
      "source": [
        "✅ **Your Turn**: Look up the official documentation for Matplotlib’s `plt.plot` online."
      ],
      "id": "pHUTku7RGb6A"
    },
    {
      "cell_type": "code",
      "source": [
        "matplotlib plt.plot site:matplotlib.org"
      ],
      "metadata": {
        "id": "IBlpRDVKG_4B"
      },
      "id": "IBlpRDVKG_4B",
      "execution_count": null,
      "outputs": []
    },
    {
      "cell_type": "markdown",
      "metadata": {
        "id": "UF2XIljfGb6A"
      },
      "source": [
        "---\n",
        "### Summary\n",
        "- `?` gives quick documentation.\n",
        "- `??` shows source if available.\n",
        "- `help()` is Python’s built-in way.\n",
        "- Tab completion speeds up discovery.\n",
        "- External docs are your best friend for deeper dives.\n"
      ],
      "id": "UF2XIljfGb6A"
    }
  ],
  "metadata": {
    "kernelspec": {
      "display_name": "Python 3",
      "language": "python",
      "name": "python3"
    },
    "language_info": {
      "name": "python",
      "version": "3.x"
    },
    "colab": {
      "provenance": [],
      "include_colab_link": true
    }
  },
  "nbformat": 4,
  "nbformat_minor": 5
}