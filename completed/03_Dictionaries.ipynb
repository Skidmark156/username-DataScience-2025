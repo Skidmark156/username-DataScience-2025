{
  "cells": [
    {
      "cell_type": "markdown",
      "metadata": {
        "id": "view-in-github",
        "colab_type": "text"
      },
      "source": [
        "<a href=\"https://colab.research.google.com/github/Skidmark156/username-DataScience-2025/blob/main/completed/03_Dictionaries.ipynb\" target=\"_parent\"><img src=\"https://colab.research.google.com/assets/colab-badge.svg\" alt=\"Open In Colab\"/></a>"
      ]
    },
    {
      "cell_type": "markdown",
      "id": "ba110f51",
      "metadata": {
        "id": "ba110f51"
      },
      "source": [
        "# 📘 03 - Python Dictionaries\n",
        "\n",
        "Dictionaries store key-value pairs for fast lookups."
      ]
    },
    {
      "cell_type": "markdown",
      "id": "32ad5c23",
      "metadata": {
        "id": "32ad5c23"
      },
      "source": [
        "## ✅ Learning Goals\n",
        "- Create and access dictionary items\n",
        "- Use dictionary methods like `.get()` and `.items()`"
      ]
    },
    {
      "cell_type": "code",
      "execution_count": null,
      "id": "d69a5483",
      "metadata": {
        "id": "d69a5483"
      },
      "outputs": [],
      "source": [
        "# 📚 Create a Dictionary\n",
        "student = {'name': 'Alex', 'age': 21, 'major': 'CS'}\n",
        "print(student)"
      ]
    },
    {
      "cell_type": "code",
      "execution_count": null,
      "id": "c014213d",
      "metadata": {
        "id": "c014213d"
      },
      "outputs": [],
      "source": [
        "# 🔍 Access Values\n",
        "print(student['name'])\n",
        "print(student.get('gpa', 'N/A'))"
      ]
    },
    {
      "cell_type": "code",
      "execution_count": null,
      "id": "f80fb0b2",
      "metadata": {
        "id": "f80fb0b2"
      },
      "outputs": [],
      "source": [
        "# 🔁 Loop Over Dictionary\n",
        "for key, value in student.items():\n",
        "    print(key, '->', value)"
      ]
    },
    {
      "cell_type": "markdown",
      "id": "aa0e1c66",
      "metadata": {
        "id": "aa0e1c66"
      },
      "source": [
        "## ✏️ Your Turn\n",
        "Create a dictionary to store information about your favorite book."
      ]
    },
    {
      "cell_type": "code",
      "source": [
        "# Favorite Book Dictionary\n",
        "favorite_book = {\n",
        "    \"title\": \"The Hobbit\",\n",
        "    \"author\": \"J.R.R. Tolkien\",\n",
        "    \"year\": 1937,\n",
        "    \"genre\": \"Fantasy\"\n",
        "}\n",
        "\n",
        "print(favorite_book)\n",
        "\n",
        "# Access values\n",
        "print(\"Title:\", favorite_book[\"title\"])\n",
        "print(\"Author:\", favorite_book.get(\"author\", \"Unknown\"))\n",
        "\n",
        "# Loop over dictionary\n",
        "for key, value in favorite_book.items():\n",
        "    print(key, \"->\", value)\n"
      ],
      "metadata": {
        "id": "66J6KedYmiop",
        "outputId": "31e39103-5f40-4224-ed79-8a25f85ff2c6",
        "colab": {
          "base_uri": "https://localhost:8080/"
        }
      },
      "id": "66J6KedYmiop",
      "execution_count": null,
      "outputs": [
        {
          "output_type": "stream",
          "name": "stdout",
          "text": [
            "{'title': 'The Hobbit', 'author': 'J.R.R. Tolkien', 'year': 1937, 'genre': 'Fantasy'}\n",
            "Title: The Hobbit\n",
            "Author: J.R.R. Tolkien\n",
            "title -> The Hobbit\n",
            "author -> J.R.R. Tolkien\n",
            "year -> 1937\n",
            "genre -> Fantasy\n"
          ]
        }
      ]
    }
  ],
  "metadata": {
    "colab": {
      "provenance": [],
      "include_colab_link": true
    },
    "language_info": {
      "name": "python"
    },
    "kernelspec": {
      "name": "python3",
      "display_name": "Python 3"
    }
  },
  "nbformat": 4,
  "nbformat_minor": 5
}