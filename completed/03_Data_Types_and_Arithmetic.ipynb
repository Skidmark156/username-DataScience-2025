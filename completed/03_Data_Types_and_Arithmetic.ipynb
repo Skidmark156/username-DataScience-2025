{
  "cells": [
    {
      "cell_type": "markdown",
      "metadata": {
        "id": "view-in-github",
        "colab_type": "text"
      },
      "source": [
        "<a href=\"https://colab.research.google.com/github/Skidmark156/username-DataScience-2025/blob/main/completed/03_Data_Types_and_Arithmetic.ipynb\" target=\"_parent\"><img src=\"https://colab.research.google.com/assets/colab-badge.svg\" alt=\"Open In Colab\"/></a>"
      ]
    },
    {
      "cell_type": "markdown",
      "source": [
        "Paul"
      ],
      "metadata": {
        "id": "HUlYQFQrlMd2"
      },
      "id": "HUlYQFQrlMd2"
    },
    {
      "cell_type": "markdown",
      "id": "4b15b08b",
      "metadata": {
        "id": "4b15b08b"
      },
      "source": [
        "# 📘 03 - Data Types and Arithmetic\n",
        "\n",
        "Explore Python basics like variables, data types, and arithmetic operations."
      ]
    },
    {
      "cell_type": "markdown",
      "id": "fe930277",
      "metadata": {
        "id": "fe930277"
      },
      "source": [
        "## ✅ Learning Goals\n",
        "- Understand Python data types\n",
        "- Use variables and print statements\n",
        "- Perform basic arithmetic"
      ]
    },
    {
      "cell_type": "code",
      "execution_count": null,
      "id": "8e873f5b",
      "metadata": {
        "id": "8e873f5b"
      },
      "outputs": [],
      "source": [
        "# 🧠 Variables and Types\n",
        "x = 10\n",
        "y = 3.5\n",
        "z = 'hello'\n",
        "print(type(x), type(y), type(z))"
      ]
    },
    {
      "cell_type": "code",
      "execution_count": null,
      "id": "e90e2be4",
      "metadata": {
        "id": "e90e2be4"
      },
      "outputs": [],
      "source": [
        "# ➕ Arithmetic Operations\n",
        "print('Add:', x + y)\n",
        "print('Divide:', x / y)\n",
        "print('Floor Divide:', x // y)\n",
        "print('Exponent:', x ** 2)"
      ]
    },
    {
      "cell_type": "markdown",
      "id": "7e233e07",
      "metadata": {
        "id": "7e233e07"
      },
      "source": [
        "## ✏️ Try It Yourself\n",
        "- Create your own variables\n",
        "- Try combining numbers and strings\n",
        "- Use `input()` to interact"
      ]
    },
    {
      "cell_type": "code",
      "execution_count": null,
      "id": "42b3fc61",
      "metadata": {
        "id": "42b3fc61",
        "outputId": "f935851b-94c7-4bfb-f9e3-2339d537b742",
        "colab": {
          "base_uri": "https://localhost:8080/"
        }
      },
      "outputs": [
        {
          "output_type": "stream",
          "name": "stdout",
          "text": [
            "Types: <class 'int'> <class 'float'> <class 'str'>\n",
            "a + b = 9.5\n",
            "a * b = 17.5\n",
            "a ** 3 = 343\n",
            "Message with number: Python is fun! 7\n",
            "What is your name? Paul\n",
            "Welcome, Paul\n"
          ]
        }
      ],
      "source": [
        "# My own variables\n",
        "a = 7\n",
        "b = 2.5\n",
        "message = \"Python is fun!\"\n",
        "\n",
        "print(\"Types:\", type(a), type(b), type(message))\n",
        "\n",
        "# Arithmetic with my variables\n",
        "print(\"a + b =\", a + b)\n",
        "print(\"a * b =\", a * b)\n",
        "print(\"a ** 3 =\", a ** 3)\n",
        "\n",
        "# Combining numbers and strings\n",
        "print(\"Message with number:\", message, a)\n",
        "\n",
        "# Input example\n",
        "name = input(\"What is your name? \")\n",
        "print(\"Welcome,\", name)\n"
      ]
    },
    {
      "cell_type": "markdown",
      "id": "069d6eba",
      "metadata": {
        "id": "069d6eba"
      },
      "source": [
        "## 📤 Submit\n",
        "Make sure your name is at the top in a Markdown cell.\n",
        "Submit via D2L or Colab link."
      ]
    }
  ],
  "metadata": {
    "colab": {
      "provenance": [],
      "include_colab_link": true
    },
    "language_info": {
      "name": "python"
    },
    "kernelspec": {
      "name": "python3",
      "display_name": "Python 3"
    }
  },
  "nbformat": 4,
  "nbformat_minor": 5
}