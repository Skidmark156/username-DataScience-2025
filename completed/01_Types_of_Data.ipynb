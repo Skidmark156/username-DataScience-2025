{
  "cells": [
    {
      "cell_type": "markdown",
      "metadata": {
        "id": "view-in-github",
        "colab_type": "text"
      },
      "source": [
        "<a href=\"https://colab.research.google.com/github/Skidmark156/username-DataScience-2025/blob/main/completed/01_Types_of_Data.ipynb\" target=\"_parent\"><img src=\"https://colab.research.google.com/assets/colab-badge.svg\" alt=\"Open In Colab\"/></a>"
      ]
    },
    {
      "cell_type": "markdown",
      "metadata": {
        "id": "0ZY3Jxc4f873"
      },
      "source": [
        "# 📊 Types of Data\n",
        "\n",
        "In order to analyze and visualize data properly, we first need to understand the **types of data** we’re dealing with.\n",
        "\n",
        "This notebook covers:\n",
        "- Qualitative vs Quantitative data\n",
        "- Discrete vs Continuous data\n",
        "- The four scales of measurement: Nominal, Ordinal, Interval, Ratio\n",
        "\n",
        "> ⚡ Remember: Choosing the right summary statistic or plot depends on the data type!"
      ]
    },
    {
      "cell_type": "markdown",
      "metadata": {
        "id": "-HqxoizAf87-"
      },
      "source": [
        "## 1. Qualitative vs Quantitative\n",
        "\n",
        "- **Qualitative (Categorical)**: Describes categories or labels.\n",
        "  - Example: Eye color, brand of phone, type of pet\n",
        "\n",
        "- **Quantitative (Numeric)**: Represents measurable quantities.\n",
        "  - Example: Age, height, salary\n"
      ]
    },
    {
      "cell_type": "code",
      "execution_count": null,
      "metadata": {
        "id": "BPS3_YQ7f87_",
        "outputId": "f9ec6805-2c8e-44f7-acd1-d5de987b61fc"
      },
      "outputs": [
        {
          "data": {
            "text/html": [
              "<div>\n",
              "<style scoped>\n",
              "    .dataframe tbody tr th:only-of-type {\n",
              "        vertical-align: middle;\n",
              "    }\n",
              "\n",
              "    .dataframe tbody tr th {\n",
              "        vertical-align: top;\n",
              "    }\n",
              "\n",
              "    .dataframe thead th {\n",
              "        text-align: right;\n",
              "    }\n",
              "</style>\n",
              "<table border=\"1\" class=\"dataframe\">\n",
              "  <thead>\n",
              "    <tr style=\"text-align: right;\">\n",
              "      <th></th>\n",
              "      <th>Eye Color</th>\n",
              "      <th>Age</th>\n",
              "      <th>Favorite Pet</th>\n",
              "      <th>Height_cm</th>\n",
              "    </tr>\n",
              "  </thead>\n",
              "  <tbody>\n",
              "    <tr>\n",
              "      <th>0</th>\n",
              "      <td>Blue</td>\n",
              "      <td>18</td>\n",
              "      <td>Dog</td>\n",
              "      <td>160</td>\n",
              "    </tr>\n",
              "    <tr>\n",
              "      <th>1</th>\n",
              "      <td>Brown</td>\n",
              "      <td>21</td>\n",
              "      <td>Cat</td>\n",
              "      <td>175</td>\n",
              "    </tr>\n",
              "    <tr>\n",
              "      <th>2</th>\n",
              "      <td>Green</td>\n",
              "      <td>35</td>\n",
              "      <td>Fish</td>\n",
              "      <td>180</td>\n",
              "    </tr>\n",
              "    <tr>\n",
              "      <th>3</th>\n",
              "      <td>Hazel</td>\n",
              "      <td>42</td>\n",
              "      <td>Bird</td>\n",
              "      <td>155</td>\n",
              "    </tr>\n",
              "  </tbody>\n",
              "</table>\n",
              "</div>"
            ],
            "text/plain": [
              "  Eye Color  Age Favorite Pet  Height_cm\n",
              "0      Blue   18          Dog        160\n",
              "1     Brown   21          Cat        175\n",
              "2     Green   35         Fish        180\n",
              "3     Hazel   42         Bird        155"
            ]
          },
          "execution_count": 1,
          "metadata": {},
          "output_type": "execute_result"
        }
      ],
      "source": [
        "# Example: classify the following\n",
        "data = {\n",
        "    \"Eye Color\": [\"Blue\", \"Brown\", \"Green\", \"Hazel\"],\n",
        "    \"Age\": [18, 21, 35, 42],\n",
        "    \"Favorite Pet\": [\"Dog\", \"Cat\", \"Fish\", \"Bird\"],\n",
        "    \"Height_cm\": [160, 175, 180, 155]\n",
        "}\n",
        "\n",
        "import pandas as pd\n",
        "df = pd.DataFrame(data)\n",
        "df"
      ]
    },
    {
      "cell_type": "markdown",
      "metadata": {
        "id": "K28oazF8f88B"
      },
      "source": [
        "## 2. Discrete vs Continuous\n",
        "\n",
        "- **Discrete**: Countable values, often whole numbers.\n",
        "  - Example: Number of children, dice rolls\n",
        "\n",
        "- **Continuous**: Infinite possible values within a range.\n",
        "  - Example: Height, weight, temperature\n",
        "\n",
        "> Note: Both are *quantitative*, but treated differently in visualization and analysis."
      ]
    },
    {
      "cell_type": "markdown",
      "metadata": {
        "id": "FoNZTtrWf88C"
      },
      "source": [
        "## 3. Scales of Measurement\n",
        "\n",
        "1. **Nominal** – categories with no order (e.g., eye color, blood type).\n",
        "2. **Ordinal** – categories with an order, but not evenly spaced (e.g., t-shirt size: S, M, L).\n",
        "3. **Interval** – numeric, equal intervals, but no true zero (e.g., temperature in °C).\n",
        "4. **Ratio** – numeric, equal intervals, meaningful zero (e.g., height, weight, age)."
      ]
    },
    {
      "cell_type": "code",
      "execution_count": null,
      "metadata": {
        "id": "kXdvci4uf88D"
      },
      "outputs": [],
      "source": [
        "# Small exercise: classify the following variables\n",
        "variables = [\n",
        "    (\"Movie Genre\", \"?\"),\n",
        "    (\"Exam Letter Grade\", \"?\"),\n",
        "    (\"Temperature in Celsius\", \"?\"),\n",
        "    (\"Height in cm\", \"?\"),\n",
        "    (\"Number of Siblings\", \"?\")\n",
        "]\n",
        "for var, classification in variables:\n",
        "    print(f\"{var} → {classification}\")"
      ]
    },
    {
      "cell_type": "markdown",
      "metadata": {
        "id": "5XKrvQtJf88D"
      },
      "source": [
        "👉 **Task:** Replace the `?` above with the correct type (Nominal, Ordinal, Interval, Ratio)."
      ]
    },
    {
      "cell_type": "code",
      "source": [
        "variables = [\n",
        "    (\"Movie Genre\", \"Nominal\"),\n",
        "    (\"Exam Letter Grade\", \"Ordinal\"),\n",
        "    (\"Temperature in Celsius\", \"Interval\"),\n",
        "    (\"Height in cm\", \"Ratio\"),\n",
        "    (\"Number of Siblings\", \"Ratio\")\n",
        "]\n",
        "for var, classification in variables:\n",
        "    print(f\"{var} → {classification}\")"
      ],
      "metadata": {
        "id": "6ckZSUM4gJcd",
        "outputId": "784441fa-cdaa-4251-dc61-aafa895ec33b",
        "colab": {
          "base_uri": "https://localhost:8080/"
        }
      },
      "execution_count": null,
      "outputs": [
        {
          "output_type": "stream",
          "name": "stdout",
          "text": [
            "Movie Genre → Nominal\n",
            "Exam Letter Grade → Ordinal\n",
            "Temperature in Celsius → Interval\n",
            "Height in cm → Ratio\n",
            "Number of Siblings → Ratio\n"
          ]
        }
      ]
    },
    {
      "cell_type": "markdown",
      "metadata": {
        "id": "WB3-tHDmf88E"
      },
      "source": [
        "## 4. Quick Practice\n",
        "\n",
        "Decide for each variable:\n",
        "1. Is it **qualitative** or **quantitative**?\n",
        "2. If quantitative, is it **discrete** or **continuous**?\n",
        "3. What scale of measurement does it use?\n",
        "\n",
        "| Variable | Qual/Quant | Disc/Cont | Scale |\n",
        "|----------|------------|-----------|-------|\n",
        "| Country of Birth | ? | – | Nominal |\n",
        "| Shoe Size | Quant | Discrete | Ordinal (?) |\n",
        "| Time to Run 5k | Quant | Continuous | Ratio |\n",
        "| Temperature (°C) | Quant | Continuous | Interval |\n",
        "| Number of Pets | Quant | Discrete | Ratio |"
      ]
    },
    {
      "cell_type": "markdown",
      "metadata": {
        "id": "HCzuj80Af88E"
      },
      "source": [
        "---\n",
        "✅ That’s it for data types! Next up → [Summary Statistics](02-Summary_Statistics.ipynb)"
      ]
    }
  ],
  "metadata": {
    "kernelspec": {
      "display_name": ".venv",
      "language": "python",
      "name": "python3"
    },
    "language_info": {
      "codemirror_mode": {
        "name": "ipython",
        "version": 3
      },
      "file_extension": ".py",
      "mimetype": "text/x-python",
      "name": "python",
      "nbconvert_exporter": "python",
      "pygments_lexer": "ipython3",
      "version": "3.13.7"
    },
    "colab": {
      "provenance": [],
      "include_colab_link": true
    }
  },
  "nbformat": 4,
  "nbformat_minor": 0
}