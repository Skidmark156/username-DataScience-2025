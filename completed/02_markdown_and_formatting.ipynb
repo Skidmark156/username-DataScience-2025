{
  "cells": [
    {
      "cell_type": "markdown",
      "metadata": {
        "id": "view-in-github",
        "colab_type": "text"
      },
      "source": [
        "<a href=\"https://colab.research.google.com/github/Skidmark156/username-DataScience-2025/blob/main/completed/02_markdown_and_formatting.ipynb\" target=\"_parent\"><img src=\"https://colab.research.google.com/assets/colab-badge.svg\" alt=\"Open In Colab\"/></a>"
      ]
    },
    {
      "cell_type": "markdown",
      "metadata": {
        "id": "ywDLD8no8G2e"
      },
      "source": [
        "# 📝 02 - Markdown and Formatting\n",
        "\n",
        "Jupyter notebooks are not just for code — you can mix **Markdown** and code to create clear, professional-looking reports.\n",
        "\n",
        "This notebook introduces:\n",
        "- Writing Markdown cells (headings, lists, links)\n",
        "- Adding inline **LaTeX math**\n",
        "- Embedding images\n",
        "- Why formatting matters in data science communication\n"
      ],
      "id": "ywDLD8no8G2e"
    },
    {
      "cell_type": "markdown",
      "metadata": {
        "id": "-cl1wUVy8G2g"
      },
      "source": [
        "## 1. Headings and Text Styles"
      ],
      "id": "-cl1wUVy8G2g"
    },
    {
      "cell_type": "markdown",
      "metadata": {
        "id": "MDmpY5iY8G2g"
      },
      "source": [
        "### Example\n",
        "# Heading 1\n",
        "## Heading 2\n",
        "### Heading 3\n",
        "\n",
        "**Bold text**, *italic text*, `inline code`"
      ],
      "id": "MDmpY5iY8G2g"
    },
    {
      "cell_type": "markdown",
      "metadata": {
        "id": "zl269Hn_8G2g"
      },
      "source": [
        "✅ **Your Turn**: Create a cell with the heading `## My Favorite Data Tools` and list at least three tools in bold."
      ],
      "id": "zl269Hn_8G2g"
    },
    {
      "cell_type": "code",
      "source": [
        "## My Favorite Data Tools\n",
        "- **Pandas**\n",
        "- **NumPy**\n",
        "- **Matplotlib**\n"
      ],
      "metadata": {
        "id": "KmGlYt5WM_61"
      },
      "id": "KmGlYt5WM_61",
      "execution_count": null,
      "outputs": []
    },
    {
      "cell_type": "markdown",
      "metadata": {
        "id": "9bLEI4JJ8G2h"
      },
      "source": [
        "## 2. Lists"
      ],
      "id": "9bLEI4JJ8G2h"
    },
    {
      "cell_type": "markdown",
      "metadata": {
        "id": "NmD7G8nJ8G2h"
      },
      "source": [
        "### Example\n",
        "- Item 1\n",
        "- Item 2\n",
        "  - Sub-item 2a\n",
        "  - Sub-item 2b\n",
        "\n",
        "1. First\n",
        "2. Second\n",
        "3. Third"
      ],
      "id": "NmD7G8nJ8G2h"
    },
    {
      "cell_type": "markdown",
      "metadata": {
        "id": "lIqPnJmm8G2h"
      },
      "source": [
        "✅ **Your Turn**: Make an ordered list of your top 3 programming languages."
      ],
      "id": "lIqPnJmm8G2h"
    },
    {
      "cell_type": "code",
      "source": [
        "1. Python\n",
        "2. Java\n",
        "3. C++"
      ],
      "metadata": {
        "id": "qKnXYCmFNCv-"
      },
      "id": "qKnXYCmFNCv-",
      "execution_count": null,
      "outputs": []
    },
    {
      "cell_type": "markdown",
      "metadata": {
        "id": "vBcY2yIi8G2i"
      },
      "source": [
        "## 3. Links and Images"
      ],
      "id": "vBcY2yIi8G2i"
    },
    {
      "cell_type": "markdown",
      "metadata": {
        "id": "dTaY1hip8G2i"
      },
      "source": [
        "### Links\n",
        "[OpenAI](https://www.openai.com)\n",
        "\n",
        "### Images\n",
        "![MSU Logo](https://upload.wikimedia.org/wikipedia/en/8/8b/Midwestern_State_University_seal.png)"
      ],
      "id": "dTaY1hip8G2i"
    },
    {
      "cell_type": "markdown",
      "metadata": {
        "id": "Hrbe017T8G2i"
      },
      "source": [
        "✅ **Your Turn**: Insert a link to your favorite website and embed an image (can be a URL or local file)."
      ],
      "id": "Hrbe017T8G2i"
    },
    {
      "cell_type": "code",
      "source": [
        "[Visit Steam](https://store.steampowered.com/)"
      ],
      "metadata": {
        "id": "Gz_eCM4BNYsk"
      },
      "id": "Gz_eCM4BNYsk",
      "execution_count": null,
      "outputs": []
    },
    {
      "cell_type": "markdown",
      "metadata": {
        "id": "MrWqkLFN8G2j"
      },
      "source": [
        "## 4. LaTeX Math"
      ],
      "id": "MrWqkLFN8G2j"
    },
    {
      "cell_type": "markdown",
      "metadata": {
        "id": "EN8TIp1x8G2j"
      },
      "source": [
        "You can render math using LaTeX syntax inside `$ ... $` for inline or `$$ ... $$` for block math.\n",
        "\n",
        "Example:  \n",
        "Inline: $E = mc^2$  \n",
        "Block:\n",
        "$$\n",
        "\\frac{\\partial f}{\\partial x} = 2x\n",
        "$$"
      ],
      "id": "EN8TIp1x8G2j"
    },
    {
      "cell_type": "markdown",
      "metadata": {
        "id": "Eb255LHN8G2j"
      },
      "source": [
        "✅ **Your Turn**: Write the quadratic formula in LaTeX."
      ],
      "id": "Eb255LHN8G2j"
    },
    {
      "cell_type": "code",
      "source": [
        "The quadratic formula is:\n",
        "\n",
        "$$x = \\frac{-b \\pm \\sqrt{b^2 - 4ac}}{2a}$$"
      ],
      "metadata": {
        "id": "e_R8H0WENy0a"
      },
      "id": "e_R8H0WENy0a",
      "execution_count": null,
      "outputs": []
    },
    {
      "cell_type": "markdown",
      "metadata": {
        "id": "CfZ7wSu48G2k"
      },
      "source": [
        "## 5. Mixing Code and Markdown"
      ],
      "id": "CfZ7wSu48G2k"
    },
    {
      "cell_type": "code",
      "execution_count": null,
      "metadata": {
        "id": "R79BOGJh8G2k"
      },
      "outputs": [],
      "source": [
        "# Example: create data in Python\n",
        "numbers = [1, 2, 3, 4, 5]\n",
        "squares = [n**2 for n in numbers]\n",
        "squares"
      ],
      "id": "R79BOGJh8G2k"
    },
    {
      "cell_type": "markdown",
      "metadata": {
        "id": "KooLXPY18G2l"
      },
      "source": [
        "Now we explain results in Markdown:\n",
        "- The list `numbers` contained 1–5.\n",
        "- The list `squares` contains each number squared.\n",
        "- Mixing narrative + results is why notebooks are so powerful."
      ],
      "id": "KooLXPY18G2l"
    },
    {
      "cell_type": "markdown",
      "metadata": {
        "id": "YnTsRMVZ8G2l"
      },
      "source": [
        "✅ **Your Turn**: Create a list of 3 numbers, calculate their cubes in code, then explain in Markdown."
      ],
      "id": "YnTsRMVZ8G2l"
    },
    {
      "cell_type": "code",
      "source": [
        "# Code cell\n",
        "numbers = [2, 4, 6]\n",
        "cubes = [n**3 for n in numbers]\n",
        "cubes\n",
        "\n",
        "The list `numbers` contained 2, 4, and 6.\n",
        "The list `cubes` contains their cubes: 8, 64, and 216."
      ],
      "metadata": {
        "id": "ZfIIo_dfN5Ap"
      },
      "id": "ZfIIo_dfN5Ap",
      "execution_count": null,
      "outputs": []
    },
    {
      "cell_type": "markdown",
      "metadata": {
        "id": "j5Pjp2O48G2l"
      },
      "source": [
        "---\n",
        "### Summary\n",
        "- Use headings and formatting to organize.\n",
        "- Lists and links make content readable.\n",
        "- LaTeX lets you add professional math.\n",
        "- Combine code + Markdown for clear data storytelling.\n"
      ],
      "id": "j5Pjp2O48G2l"
    }
  ],
  "metadata": {
    "kernelspec": {
      "display_name": "Python 3",
      "language": "python",
      "name": "python3"
    },
    "language_info": {
      "name": "python",
      "version": "3.x"
    },
    "colab": {
      "provenance": [],
      "include_colab_link": true
    }
  },
  "nbformat": 4,
  "nbformat_minor": 5
}