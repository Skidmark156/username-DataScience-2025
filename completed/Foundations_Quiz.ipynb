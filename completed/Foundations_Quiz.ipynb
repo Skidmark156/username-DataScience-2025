{
  "cells": [
    {
      "cell_type": "markdown",
      "metadata": {
        "id": "view-in-github",
        "colab_type": "text"
      },
      "source": [
        "<a href=\"https://colab.research.google.com/github/Skidmark156/username-DataScience-2025/blob/main/completed/Foundations_Quiz.ipynb\" target=\"_parent\"><img src=\"https://colab.research.google.com/assets/colab-badge.svg\" alt=\"Open In Colab\"/></a>"
      ]
    },
    {
      "cell_type": "markdown",
      "metadata": {
        "id": "XrBtQzujLpeQ"
      },
      "source": [
        "# 📝 Foundations Quiz\n",
        "\n",
        "This quiz covers material from the **Foundations** notebooks (01–08).  \n",
        "Answer each question in the provided cell. Some questions require code, others are written answers.\n"
      ],
      "id": "XrBtQzujLpeQ"
    },
    {
      "cell_type": "markdown",
      "metadata": {
        "id": "0X5zPNMVLpeS"
      },
      "source": [
        "## Q1. Magics\n",
        "What does `%whos` display? Write your answer below."
      ],
      "id": "0X5zPNMVLpeS"
    },
    {
      "cell_type": "markdown",
      "metadata": {
        "id": "mpr4lBhRLpeS"
      },
      "source": [
        "*Your Answer:* displays information about all variables currently defined in the interactive namespace — including their type, size, and value. It’s like checking what’s stored in memory."
      ],
      "id": "mpr4lBhRLpeS"
    },
    {
      "cell_type": "markdown",
      "metadata": {
        "id": "WLrufyN2LpeT"
      },
      "source": [
        "## Q2. Markdown\n",
        "Create a Markdown cell with a heading `## My Hobbies` and a bullet list of at least 3 hobbies."
      ],
      "id": "WLrufyN2LpeT"
    },
    {
      "cell_type": "markdown",
      "metadata": {
        "id": "n-f-OnEeLpeT"
      },
      "source": [
        "## My Hobbies\n",
        "- Reading mystery novels  \n",
        "- Playing basketball  \n",
        "- Traveling to new places"
      ],
      "id": "n-f-OnEeLpeT"
    },
    {
      "cell_type": "code",
      "source": [
        "## My Hobbies\n",
        "- Reading mystery novels\n",
        "- Playing basketball\n",
        "- Traveling to new places"
      ],
      "metadata": {
        "colab": {
          "base_uri": "https://localhost:8080/",
          "height": 106
        },
        "id": "GJqfK6uRMinl",
        "outputId": "a59a1e90-bc3b-48d1-97fb-443b883bd3e9"
      },
      "id": "GJqfK6uRMinl",
      "execution_count": null,
      "outputs": [
        {
          "output_type": "error",
          "ename": "SyntaxError",
          "evalue": "invalid syntax (ipython-input-1901389089.py, line 2)",
          "traceback": [
            "\u001b[0;36m  File \u001b[0;32m\"/tmp/ipython-input-1901389089.py\"\u001b[0;36m, line \u001b[0;32m2\u001b[0m\n\u001b[0;31m    - Reading mystery novels\u001b[0m\n\u001b[0m              ^\u001b[0m\n\u001b[0;31mSyntaxError\u001b[0m\u001b[0;31m:\u001b[0m invalid syntax\n"
          ]
        }
      ]
    },
    {
      "cell_type": "markdown",
      "metadata": {
        "id": "cYu9X4KILpeT"
      },
      "source": [
        "## Q3. Files and Paths\n",
        "Use `%pwd` to print your current working directory."
      ],
      "id": "cYu9X4KILpeT"
    },
    {
      "cell_type": "code",
      "execution_count": null,
      "metadata": {
        "colab": {
          "base_uri": "https://localhost:8080/",
          "height": 35
        },
        "id": "e2YzQTc0LpeU",
        "outputId": "86545cd6-f96c-4e55-f3c3-eb2683c15e79"
      },
      "outputs": [
        {
          "output_type": "execute_result",
          "data": {
            "text/plain": [
              "'/content'"
            ],
            "application/vnd.google.colaboratory.intrinsic+json": {
              "type": "string"
            }
          },
          "metadata": {},
          "execution_count": 4
        }
      ],
      "source": [
        "%pwd"
      ],
      "id": "e2YzQTc0LpeU"
    },
    {
      "cell_type": "markdown",
      "metadata": {
        "id": "-KaInIOSLpeV"
      },
      "source": [
        "## Q4. File I/O\n",
        "Write Python code that saves `Hello World` to a file called `hello.txt`, then reads it back and prints the contents."
      ],
      "id": "-KaInIOSLpeV"
    },
    {
      "cell_type": "code",
      "execution_count": null,
      "metadata": {
        "colab": {
          "base_uri": "https://localhost:8080/"
        },
        "id": "_L6ggP4lLpeV",
        "outputId": "9bfce878-74d2-4198-d3f1-abeacbcadb7e"
      },
      "outputs": [
        {
          "output_type": "stream",
          "name": "stdout",
          "text": [
            "Hello World\n"
          ]
        }
      ],
      "source": [
        "# Write to file\n",
        "with open(\"hello.txt\", \"w\") as f:\n",
        "    f.write(\"Hello World\")\n",
        "\n",
        "# Read from file\n",
        "with open(\"hello.txt\", \"r\") as f:\n",
        "    contents = f.read()\n",
        "\n",
        "print(contents)"
      ],
      "id": "_L6ggP4lLpeV"
    },
    {
      "cell_type": "markdown",
      "metadata": {
        "id": "60V_-EhfLpeW"
      },
      "source": [
        "## Q5. Data I/O\n",
        "Load the file `students.csv` (or create a small CSV yourself) with Pandas and show the first 5 rows."
      ],
      "id": "60V_-EhfLpeW"
    },
    {
      "cell_type": "code",
      "execution_count": null,
      "metadata": {
        "colab": {
          "base_uri": "https://localhost:8080/",
          "height": 143
        },
        "id": "2AZid3ThLpeW",
        "outputId": "a4ec01e6-4d35-4058-8c72-70480d0f01cc"
      },
      "outputs": [
        {
          "output_type": "execute_result",
          "data": {
            "text/plain": [
              "      Name  Age\n",
              "0    Alice   20\n",
              "1      Bob   22\n",
              "2  Charlie   19"
            ],
            "text/html": [
              "\n",
              "  <div id=\"df-07ff6086-a77b-4c23-a12f-e1b7c9e7ff91\" class=\"colab-df-container\">\n",
              "    <div>\n",
              "<style scoped>\n",
              "    .dataframe tbody tr th:only-of-type {\n",
              "        vertical-align: middle;\n",
              "    }\n",
              "\n",
              "    .dataframe tbody tr th {\n",
              "        vertical-align: top;\n",
              "    }\n",
              "\n",
              "    .dataframe thead th {\n",
              "        text-align: right;\n",
              "    }\n",
              "</style>\n",
              "<table border=\"1\" class=\"dataframe\">\n",
              "  <thead>\n",
              "    <tr style=\"text-align: right;\">\n",
              "      <th></th>\n",
              "      <th>Name</th>\n",
              "      <th>Age</th>\n",
              "    </tr>\n",
              "  </thead>\n",
              "  <tbody>\n",
              "    <tr>\n",
              "      <th>0</th>\n",
              "      <td>Alice</td>\n",
              "      <td>20</td>\n",
              "    </tr>\n",
              "    <tr>\n",
              "      <th>1</th>\n",
              "      <td>Bob</td>\n",
              "      <td>22</td>\n",
              "    </tr>\n",
              "    <tr>\n",
              "      <th>2</th>\n",
              "      <td>Charlie</td>\n",
              "      <td>19</td>\n",
              "    </tr>\n",
              "  </tbody>\n",
              "</table>\n",
              "</div>\n",
              "    <div class=\"colab-df-buttons\">\n",
              "\n",
              "  <div class=\"colab-df-container\">\n",
              "    <button class=\"colab-df-convert\" onclick=\"convertToInteractive('df-07ff6086-a77b-4c23-a12f-e1b7c9e7ff91')\"\n",
              "            title=\"Convert this dataframe to an interactive table.\"\n",
              "            style=\"display:none;\">\n",
              "\n",
              "  <svg xmlns=\"http://www.w3.org/2000/svg\" height=\"24px\" viewBox=\"0 -960 960 960\">\n",
              "    <path d=\"M120-120v-720h720v720H120Zm60-500h600v-160H180v160Zm220 220h160v-160H400v160Zm0 220h160v-160H400v160ZM180-400h160v-160H180v160Zm440 0h160v-160H620v160ZM180-180h160v-160H180v160Zm440 0h160v-160H620v160Z\"/>\n",
              "  </svg>\n",
              "    </button>\n",
              "\n",
              "  <style>\n",
              "    .colab-df-container {\n",
              "      display:flex;\n",
              "      gap: 12px;\n",
              "    }\n",
              "\n",
              "    .colab-df-convert {\n",
              "      background-color: #E8F0FE;\n",
              "      border: none;\n",
              "      border-radius: 50%;\n",
              "      cursor: pointer;\n",
              "      display: none;\n",
              "      fill: #1967D2;\n",
              "      height: 32px;\n",
              "      padding: 0 0 0 0;\n",
              "      width: 32px;\n",
              "    }\n",
              "\n",
              "    .colab-df-convert:hover {\n",
              "      background-color: #E2EBFA;\n",
              "      box-shadow: 0px 1px 2px rgba(60, 64, 67, 0.3), 0px 1px 3px 1px rgba(60, 64, 67, 0.15);\n",
              "      fill: #174EA6;\n",
              "    }\n",
              "\n",
              "    .colab-df-buttons div {\n",
              "      margin-bottom: 4px;\n",
              "    }\n",
              "\n",
              "    [theme=dark] .colab-df-convert {\n",
              "      background-color: #3B4455;\n",
              "      fill: #D2E3FC;\n",
              "    }\n",
              "\n",
              "    [theme=dark] .colab-df-convert:hover {\n",
              "      background-color: #434B5C;\n",
              "      box-shadow: 0px 1px 3px 1px rgba(0, 0, 0, 0.15);\n",
              "      filter: drop-shadow(0px 1px 2px rgba(0, 0, 0, 0.3));\n",
              "      fill: #FFFFFF;\n",
              "    }\n",
              "  </style>\n",
              "\n",
              "    <script>\n",
              "      const buttonEl =\n",
              "        document.querySelector('#df-07ff6086-a77b-4c23-a12f-e1b7c9e7ff91 button.colab-df-convert');\n",
              "      buttonEl.style.display =\n",
              "        google.colab.kernel.accessAllowed ? 'block' : 'none';\n",
              "\n",
              "      async function convertToInteractive(key) {\n",
              "        const element = document.querySelector('#df-07ff6086-a77b-4c23-a12f-e1b7c9e7ff91');\n",
              "        const dataTable =\n",
              "          await google.colab.kernel.invokeFunction('convertToInteractive',\n",
              "                                                    [key], {});\n",
              "        if (!dataTable) return;\n",
              "\n",
              "        const docLinkHtml = 'Like what you see? Visit the ' +\n",
              "          '<a target=\"_blank\" href=https://colab.research.google.com/notebooks/data_table.ipynb>data table notebook</a>'\n",
              "          + ' to learn more about interactive tables.';\n",
              "        element.innerHTML = '';\n",
              "        dataTable['output_type'] = 'display_data';\n",
              "        await google.colab.output.renderOutput(dataTable, element);\n",
              "        const docLink = document.createElement('div');\n",
              "        docLink.innerHTML = docLinkHtml;\n",
              "        element.appendChild(docLink);\n",
              "      }\n",
              "    </script>\n",
              "  </div>\n",
              "\n",
              "\n",
              "    <div id=\"df-960325b1-64e3-44db-a48b-7cdc7c2d9a4c\">\n",
              "      <button class=\"colab-df-quickchart\" onclick=\"quickchart('df-960325b1-64e3-44db-a48b-7cdc7c2d9a4c')\"\n",
              "                title=\"Suggest charts\"\n",
              "                style=\"display:none;\">\n",
              "\n",
              "<svg xmlns=\"http://www.w3.org/2000/svg\" height=\"24px\"viewBox=\"0 0 24 24\"\n",
              "     width=\"24px\">\n",
              "    <g>\n",
              "        <path d=\"M19 3H5c-1.1 0-2 .9-2 2v14c0 1.1.9 2 2 2h14c1.1 0 2-.9 2-2V5c0-1.1-.9-2-2-2zM9 17H7v-7h2v7zm4 0h-2V7h2v10zm4 0h-2v-4h2v4z\"/>\n",
              "    </g>\n",
              "</svg>\n",
              "      </button>\n",
              "\n",
              "<style>\n",
              "  .colab-df-quickchart {\n",
              "      --bg-color: #E8F0FE;\n",
              "      --fill-color: #1967D2;\n",
              "      --hover-bg-color: #E2EBFA;\n",
              "      --hover-fill-color: #174EA6;\n",
              "      --disabled-fill-color: #AAA;\n",
              "      --disabled-bg-color: #DDD;\n",
              "  }\n",
              "\n",
              "  [theme=dark] .colab-df-quickchart {\n",
              "      --bg-color: #3B4455;\n",
              "      --fill-color: #D2E3FC;\n",
              "      --hover-bg-color: #434B5C;\n",
              "      --hover-fill-color: #FFFFFF;\n",
              "      --disabled-bg-color: #3B4455;\n",
              "      --disabled-fill-color: #666;\n",
              "  }\n",
              "\n",
              "  .colab-df-quickchart {\n",
              "    background-color: var(--bg-color);\n",
              "    border: none;\n",
              "    border-radius: 50%;\n",
              "    cursor: pointer;\n",
              "    display: none;\n",
              "    fill: var(--fill-color);\n",
              "    height: 32px;\n",
              "    padding: 0;\n",
              "    width: 32px;\n",
              "  }\n",
              "\n",
              "  .colab-df-quickchart:hover {\n",
              "    background-color: var(--hover-bg-color);\n",
              "    box-shadow: 0 1px 2px rgba(60, 64, 67, 0.3), 0 1px 3px 1px rgba(60, 64, 67, 0.15);\n",
              "    fill: var(--button-hover-fill-color);\n",
              "  }\n",
              "\n",
              "  .colab-df-quickchart-complete:disabled,\n",
              "  .colab-df-quickchart-complete:disabled:hover {\n",
              "    background-color: var(--disabled-bg-color);\n",
              "    fill: var(--disabled-fill-color);\n",
              "    box-shadow: none;\n",
              "  }\n",
              "\n",
              "  .colab-df-spinner {\n",
              "    border: 2px solid var(--fill-color);\n",
              "    border-color: transparent;\n",
              "    border-bottom-color: var(--fill-color);\n",
              "    animation:\n",
              "      spin 1s steps(1) infinite;\n",
              "  }\n",
              "\n",
              "  @keyframes spin {\n",
              "    0% {\n",
              "      border-color: transparent;\n",
              "      border-bottom-color: var(--fill-color);\n",
              "      border-left-color: var(--fill-color);\n",
              "    }\n",
              "    20% {\n",
              "      border-color: transparent;\n",
              "      border-left-color: var(--fill-color);\n",
              "      border-top-color: var(--fill-color);\n",
              "    }\n",
              "    30% {\n",
              "      border-color: transparent;\n",
              "      border-left-color: var(--fill-color);\n",
              "      border-top-color: var(--fill-color);\n",
              "      border-right-color: var(--fill-color);\n",
              "    }\n",
              "    40% {\n",
              "      border-color: transparent;\n",
              "      border-right-color: var(--fill-color);\n",
              "      border-top-color: var(--fill-color);\n",
              "    }\n",
              "    60% {\n",
              "      border-color: transparent;\n",
              "      border-right-color: var(--fill-color);\n",
              "    }\n",
              "    80% {\n",
              "      border-color: transparent;\n",
              "      border-right-color: var(--fill-color);\n",
              "      border-bottom-color: var(--fill-color);\n",
              "    }\n",
              "    90% {\n",
              "      border-color: transparent;\n",
              "      border-bottom-color: var(--fill-color);\n",
              "    }\n",
              "  }\n",
              "</style>\n",
              "\n",
              "      <script>\n",
              "        async function quickchart(key) {\n",
              "          const quickchartButtonEl =\n",
              "            document.querySelector('#' + key + ' button');\n",
              "          quickchartButtonEl.disabled = true;  // To prevent multiple clicks.\n",
              "          quickchartButtonEl.classList.add('colab-df-spinner');\n",
              "          try {\n",
              "            const charts = await google.colab.kernel.invokeFunction(\n",
              "                'suggestCharts', [key], {});\n",
              "          } catch (error) {\n",
              "            console.error('Error during call to suggestCharts:', error);\n",
              "          }\n",
              "          quickchartButtonEl.classList.remove('colab-df-spinner');\n",
              "          quickchartButtonEl.classList.add('colab-df-quickchart-complete');\n",
              "        }\n",
              "        (() => {\n",
              "          let quickchartButtonEl =\n",
              "            document.querySelector('#df-960325b1-64e3-44db-a48b-7cdc7c2d9a4c button');\n",
              "          quickchartButtonEl.style.display =\n",
              "            google.colab.kernel.accessAllowed ? 'block' : 'none';\n",
              "        })();\n",
              "      </script>\n",
              "    </div>\n",
              "\n",
              "    </div>\n",
              "  </div>\n"
            ],
            "application/vnd.google.colaboratory.intrinsic+json": {
              "type": "dataframe",
              "variable_name": "students",
              "summary": "{\n  \"name\": \"students\",\n  \"rows\": 3,\n  \"fields\": [\n    {\n      \"column\": \"Name\",\n      \"properties\": {\n        \"dtype\": \"string\",\n        \"num_unique_values\": 3,\n        \"samples\": [\n          \"Alice\",\n          \"Bob\",\n          \"Charlie\"\n        ],\n        \"semantic_type\": \"\",\n        \"description\": \"\"\n      }\n    },\n    {\n      \"column\": \"Age\",\n      \"properties\": {\n        \"dtype\": \"number\",\n        \"std\": 1,\n        \"min\": 19,\n        \"max\": 22,\n        \"num_unique_values\": 3,\n        \"samples\": [\n          20,\n          22,\n          19\n        ],\n        \"semantic_type\": \"\",\n        \"description\": \"\"\n      }\n    }\n  ]\n}"
            }
          },
          "metadata": {},
          "execution_count": 6
        }
      ],
      "source": [
        "import pandas as pd\n",
        "\n",
        "# Create a small CSV for demonstration\n",
        "data = {\"Name\": [\"Alice\", \"Bob\", \"Charlie\"], \"Age\": [20, 22, 19]}\n",
        "df = pd.DataFrame(data)\n",
        "df.to_csv(\"students.csv\", index=False)\n",
        "\n",
        "# Load and display first 5 rows\n",
        "students = pd.read_csv(\"students.csv\")\n",
        "students.head()"
      ],
      "id": "2AZid3ThLpeW"
    },
    {
      "cell_type": "markdown",
      "metadata": {
        "id": "igC415qxLpeW"
      },
      "source": [
        "## Q6. Plotting\n",
        "Create a line plot of $y = x^2$ for $x$ values from 0 to 10."
      ],
      "id": "igC415qxLpeW"
    },
    {
      "cell_type": "code",
      "execution_count": null,
      "metadata": {
        "colab": {
          "base_uri": "https://localhost:8080/",
          "height": 472
        },
        "id": "5tYsaSRcLpeX",
        "outputId": "8995e56f-0fa4-4a7a-90ac-c5a7aea5b301"
      },
      "outputs": [
        {
          "output_type": "display_data",
          "data": {
            "text/plain": [
              "<Figure size 640x480 with 1 Axes>"
            ],
            "image/png": "[encoded data removed]"
          },
          "metadata": {}
        }
      ],
      "source": [
        "import matplotlib.pyplot as plt\n",
        "\n",
        "x = list(range(0, 11))\n",
        "y = [i**2 for i in x]\n",
        "\n",
        "plt.plot(x, y)\n",
        "plt.title(\"y = x²\")\n",
        "plt.xlabel(\"x\")\n",
        "plt.ylabel(\"y\")\n",
        "plt.show()"
      ],
      "id": "5tYsaSRcLpeX"
    },
    {
      "cell_type": "markdown",
      "metadata": {
        "id": "ATTW4PUPLpeX"
      },
      "source": [
        "## Q7. Shortcuts\n",
        "In Command mode, what keyboard shortcut deletes a cell?"
      ],
      "id": "ATTW4PUPLpeX"
    },
    {
      "cell_type": "markdown",
      "metadata": {
        "id": "rIdXJ3R6LpeX"
      },
      "source": [
        "*Your Answer:* In Command mode, press DD (double tap D) to delete a cell."
      ],
      "id": "rIdXJ3R6LpeX"
    },
    {
      "cell_type": "markdown",
      "metadata": {
        "id": "obgiYdBWLpeX"
      },
      "source": [
        "## Q8. Help and Docs\n",
        "Use `?` to display the docstring for `len`. Show the result."
      ],
      "id": "obgiYdBWLpeX"
    },
    {
      "cell_type": "code",
      "execution_count": null,
      "metadata": {
        "id": "6ll0BmkMLpeY"
      },
      "outputs": [],
      "source": [
        "?len"
      ],
      "id": "6ll0BmkMLpeY"
    },
    {
      "cell_type": "markdown",
      "metadata": {
        "id": "Gl9RunpGLpeY"
      },
      "source": [
        "## Q9. Timing\n",
        "Compare the runtime of squaring numbers using a Python loop vs. NumPy. Use `%timeit` for each."
      ],
      "id": "Gl9RunpGLpeY"
    },
    {
      "cell_type": "code",
      "execution_count": null,
      "metadata": {
        "colab": {
          "base_uri": "https://localhost:8080/"
        },
        "id": "WYNX5YqWLpeY",
        "outputId": "e6dd8deb-5add-4b64-d58b-2247b15d930d"
      },
      "outputs": [
        {
          "output_type": "stream",
          "name": "stdout",
          "text": [
            "109 ms ± 25 ms per loop (mean ± std. dev. of 7 runs, 10 loops each)\n",
            "926 µs ± 146 µs per loop (mean ± std. dev. of 7 runs, 1000 loops each)\n"
          ]
        }
      ],
      "source": [
        "import numpy as np\n",
        "\n",
        "# Using Python loop\n",
        "%timeit [i**2 for i in range(1000000)]\n",
        "\n",
        "# Using NumPy\n",
        "arr = np.arange(1000000)\n",
        "%timeit arr**2"
      ],
      "id": "WYNX5YqWLpeY"
    },
    {
      "cell_type": "markdown",
      "metadata": {
        "id": "bf8t8gygLpeY"
      },
      "source": [
        "## Q10. Reflection\n",
        "Why is it useful to mix Markdown and code in Jupyter notebooks? Write 2–3 sentences."
      ],
      "id": "bf8t8gygLpeY"
    },
    {
      "cell_type": "markdown",
      "metadata": {
        "id": "zHL2DkBPLpeY"
      },
      "source": [
        "*Your Answer:* Mixing Markdown and code in Jupyter notebooks helps organize work clearly. Markdown is used for explanations, notes, and section headings, while code cells show actual computations and results. This makes notebooks both readable and reproducible for others."
      ],
      "id": "zHL2DkBPLpeY"
    }
  ],
  "metadata": {
    "kernelspec": {
      "display_name": "Python 3",
      "language": "python",
      "name": "python3"
    },
    "language_info": {
      "name": "python",
      "version": "3.x"
    },
    "colab": {
      "provenance": [],
      "include_colab_link": true
    }
  },
  "nbformat": 4,
  "nbformat_minor": 5
}