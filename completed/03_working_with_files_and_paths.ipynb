{
  "cells": [
    {
      "cell_type": "markdown",
      "metadata": {
        "id": "view-in-github",
        "colab_type": "text"
      },
      "source": [
        "<a href=\"https://colab.research.google.com/github/Skidmark156/username-DataScience-2025/blob/main/completed/03_working_with_files_and_paths.ipynb\" target=\"_parent\"><img src=\"https://colab.research.google.com/assets/colab-badge.svg\" alt=\"Open In Colab\"/></a>"
      ]
    },
    {
      "cell_type": "markdown",
      "metadata": {
        "id": "1mOrqfEwIIYt"
      },
      "source": [
        "# 📂 03 - Working with Files and Paths\n",
        "\n",
        "Data science means working with files all the time: datasets, config files, logs.  \n",
        "This notebook introduces:\n",
        "- Checking your current path in Jupyter\n",
        "- Navigating directories\n",
        "- Reading and writing text files\n",
        "- Using `with` for safe file handling\n",
        "- Basics of JSON and CSV I/O\n"
      ],
      "id": "1mOrqfEwIIYt"
    },
    {
      "cell_type": "markdown",
      "metadata": {
        "id": "_IPPw017IIYw"
      },
      "source": [
        "## 1. Where Am I?"
      ],
      "id": "_IPPw017IIYw"
    },
    {
      "cell_type": "code",
      "execution_count": null,
      "metadata": {
        "id": "4oruHk2vIIYx"
      },
      "outputs": [],
      "source": [
        "%pwd  # Print current working directory"
      ],
      "id": "4oruHk2vIIYx"
    },
    {
      "cell_type": "code",
      "execution_count": null,
      "metadata": {
        "id": "Kpele1wtIIYz"
      },
      "outputs": [],
      "source": [
        "%ls  # List files in the current directory"
      ],
      "id": "Kpele1wtIIYz"
    },
    {
      "cell_type": "code",
      "execution_count": null,
      "metadata": {
        "id": "jqBjt5HQIIYz"
      },
      "outputs": [],
      "source": [
        "%cd ..  # Change to parent directory\n",
        "%pwd"
      ],
      "id": "jqBjt5HQIIYz"
    },
    {
      "cell_type": "markdown",
      "metadata": {
        "id": "IdVV69utIIYz"
      },
      "source": [
        "✅ **Your Turn**: Navigate into a subfolder of your repo (e.g., `Foundations/`) and list its contents."
      ],
      "id": "IdVV69utIIYz"
    },
    {
      "cell_type": "code",
      "source": [
        "%cd Foundations/\n",
        "%ls"
      ],
      "metadata": {
        "id": "meQ8B-AYIkUs"
      },
      "id": "meQ8B-AYIkUs",
      "execution_count": null,
      "outputs": []
    },
    {
      "cell_type": "markdown",
      "metadata": {
        "id": "0S4XClO7IIY0"
      },
      "source": [
        "## 2. Writing and Reading Text Files"
      ],
      "id": "0S4XClO7IIY0"
    },
    {
      "cell_type": "code",
      "execution_count": null,
      "metadata": {
        "id": "Wmo6R4zGIIY0"
      },
      "outputs": [],
      "source": [
        "# Writing to a text file\n",
        "with open(\"example.txt\", \"w\") as f:\n",
        "    f.write(\"Hello, Jupyter!\\n\")\n",
        "    f.write(\"This is a text file.\\n\")"
      ],
      "id": "Wmo6R4zGIIY0"
    },
    {
      "cell_type": "code",
      "execution_count": null,
      "metadata": {
        "id": "_Ik2D0B8IIY0"
      },
      "outputs": [],
      "source": [
        "# Reading from a text file\n",
        "with open(\"example.txt\", \"r\") as f:\n",
        "    contents = f.read()\n",
        "contents"
      ],
      "id": "_Ik2D0B8IIY0"
    },
    {
      "cell_type": "markdown",
      "metadata": {
        "id": "RR6EIP3RIIY1"
      },
      "source": [
        "✅ **Your Turn**: Write your name into a file called `me.txt`, then read it back and print the result."
      ],
      "id": "RR6EIP3RIIY1"
    },
    {
      "cell_type": "code",
      "source": [
        "with open(\"me.txt\", \"w\") as f:\n",
        "    f.write(\"Paul\")\n",
        "with open(\"me.txt\", \"r\") as f:\n",
        "    print(f.read())"
      ],
      "metadata": {
        "id": "XbyNguWhIpRq"
      },
      "id": "XbyNguWhIpRq",
      "execution_count": null,
      "outputs": []
    },
    {
      "cell_type": "markdown",
      "metadata": {
        "id": "8SVr2aO_IIY1"
      },
      "source": [
        "## 3. JSON Files"
      ],
      "id": "8SVr2aO_IIY1"
    },
    {
      "cell_type": "code",
      "execution_count": null,
      "metadata": {
        "id": "VqTlgx2yIIY1"
      },
      "outputs": [],
      "source": [
        "import json\n",
        "\n",
        "data = {\"name\": \"Graylian\", \"type\": \"mascot\", \"skills\": [\"howl\", \"parrot talk\"]}\n",
        "\n",
        "# Write JSON\n",
        "with open(\"data.json\", \"w\") as f:\n",
        "    json.dump(data, f)\n",
        "\n",
        "# Read JSON\n",
        "with open(\"data.json\", \"r\") as f:\n",
        "    loaded = json.load(f)\n",
        "loaded"
      ],
      "id": "VqTlgx2yIIY1"
    },
    {
      "cell_type": "markdown",
      "metadata": {
        "id": "SYBpB4ueIIY1"
      },
      "source": [
        "✅ **Your Turn**: Create a dictionary with your name and 2-3 favorite courses. Save it to `courses.json`, then read it back."
      ],
      "id": "SYBpB4ueIIY1"
    },
    {
      "cell_type": "code",
      "source": [
        "import json\n",
        "\n",
        "courses = {\"name\": \"Paul\", \"favorite_courses\": [\"Pathophysiology\", \"Microbiology\", \"any class with Terry Griffen\"]}\n",
        "with open(\"courses.json\", \"w\") as f:\n",
        "    json.dump(courses, f)\n",
        "\n",
        "with open(\"courses.json\", \"r\") as f:\n",
        "    print(json.load(f))"
      ],
      "metadata": {
        "id": "RA5oj0ovI0OC"
      },
      "id": "RA5oj0ovI0OC",
      "execution_count": null,
      "outputs": []
    },
    {
      "cell_type": "markdown",
      "metadata": {
        "id": "7mbGvkBOIIY2"
      },
      "source": [
        "## 4. CSV Files"
      ],
      "id": "7mbGvkBOIIY2"
    },
    {
      "cell_type": "code",
      "execution_count": null,
      "metadata": {
        "id": "M6JgNnb5IIY2"
      },
      "outputs": [],
      "source": [
        "import csv\n",
        "\n",
        "# Writing CSV\n",
        "rows = [[\"Name\", \"Score\"], [\"Alice\", 90], [\"Bob\", 85]]\n",
        "with open(\"scores.csv\", \"w\", newline=\"\") as f:\n",
        "    writer = csv.writer(f)\n",
        "    writer.writerows(rows)\n",
        "\n",
        "# Reading CSV\n",
        "with open(\"scores.csv\", \"r\") as f:\n",
        "    reader = csv.reader(f)\n",
        "    for row in reader:\n",
        "        print(row)"
      ],
      "id": "M6JgNnb5IIY2"
    },
    {
      "cell_type": "markdown",
      "metadata": {
        "id": "wR5KWA_nIIY2"
      },
      "source": [
        "✅ **Your Turn**: Create a CSV with 3 rows of your own data (e.g., pets, grades, or hobbies). Read it back and display the rows."
      ],
      "id": "wR5KWA_nIIY2"
    },
    {
      "cell_type": "code",
      "source": [
        "import csv\n",
        "\n",
        "data = [[\"Pet\", \"Type\", \"Age\"],\n",
        "        [\"Luna\", \"Cat\", 3],\n",
        "        [\"Rocky\", \"Dog\", 5],\n",
        "        [\"Coco\", \"Bird\", 1]]\n",
        "\n",
        "with open(\"pets.csv\", \"w\", newline=\"\") as f:\n",
        "    writer = csv.writer(f)\n",
        "    writer.writerows(data)\n",
        "\n",
        "with open(\"pets.csv\", \"r\") as f:\n",
        "    reader = csv.reader(f)\n",
        "    for row in reader:\n",
        "        print(row)"
      ],
      "metadata": {
        "id": "YKQlY5o9JBuZ"
      },
      "id": "YKQlY5o9JBuZ",
      "execution_count": null,
      "outputs": []
    },
    {
      "cell_type": "code",
      "source": [],
      "metadata": {
        "id": "WoKnvOZNJBeC"
      },
      "id": "WoKnvOZNJBeC",
      "execution_count": null,
      "outputs": []
    },
    {
      "cell_type": "markdown",
      "metadata": {
        "id": "SfZKv1HqIIY2"
      },
      "source": [
        "---\n",
        "### Summary\n",
        "- `%pwd`, `%ls`, `%cd` show you where you are in the filesystem.\n",
        "- Use `with open(...)` to safely read/write files.\n",
        "- JSON is for structured data (key/value).\n",
        "- CSV is for tabular data (rows/columns).\n",
        "- Managing files is step 1 in any real data science project.\n"
      ],
      "id": "SfZKv1HqIIY2"
    }
  ],
  "metadata": {
    "kernelspec": {
      "display_name": "Python 3",
      "language": "python",
      "name": "python3"
    },
    "language_info": {
      "name": "python",
      "version": "3.x"
    },
    "colab": {
      "provenance": [],
      "include_colab_link": true
    }
  },
  "nbformat": 4,
  "nbformat_minor": 5
}