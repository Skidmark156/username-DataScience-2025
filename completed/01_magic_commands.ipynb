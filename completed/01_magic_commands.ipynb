{
  "cells": [
    {
      "cell_type": "markdown",
      "metadata": {
        "id": "view-in-github",
        "colab_type": "text"
      },
      "source": [
        "<a href=\"https://colab.research.google.com/github/Skidmark156/username-DataScience-2025/blob/main/completed/01_magic_commands.ipynb\" target=\"_parent\"><img src=\"https://colab.research.google.com/assets/colab-badge.svg\" alt=\"Open In Colab\"/></a>"
      ]
    },
    {
      "cell_type": "markdown",
      "metadata": {
        "id": "DEv7Ska57kVM"
      },
      "source": [
        "# 🧙 Magic Commands Demo Notebook\n",
        "\n",
        "This notebook introduces some of the most useful **IPython magic commands** in Jupyter.  \n",
        "Run each cell and see what happens!"
      ],
      "id": "DEv7Ska57kVM"
    },
    {
      "cell_type": "markdown",
      "metadata": {
        "id": "Xbm6CmNm7kVP"
      },
      "source": [
        "## 1. Timing and Performance"
      ],
      "id": "Xbm6CmNm7kVP"
    },
    {
      "cell_type": "code",
      "execution_count": null,
      "metadata": {
        "id": "nJ0x0weT7kVQ",
        "outputId": "ea5301c6-e047-49a4-b8da-577a5f20b1b6"
      },
      "outputs": [
        {
          "name": "stdout",
          "output_type": "stream",
          "text": [
            "CPU times: user 9.27 ms, sys: 96 μs, total: 9.37 ms\n",
            "Wall time: 9.31 ms\n"
          ]
        },
        {
          "data": {
            "text/plain": [
              "499999500000"
            ]
          },
          "execution_count": 1,
          "metadata": {},
          "output_type": "execute_result"
        }
      ],
      "source": [
        "%time sum(range(1_000_000))"
      ],
      "id": "nJ0x0weT7kVQ"
    },
    {
      "cell_type": "code",
      "execution_count": null,
      "metadata": {
        "id": "Iiu2aigE7kVS"
      },
      "outputs": [],
      "source": [
        "%timeit sum(range(1_000_000))"
      ],
      "id": "Iiu2aigE7kVS"
    },
    {
      "cell_type": "code",
      "execution_count": null,
      "metadata": {
        "id": "YJJ_Q1Kr7kVT"
      },
      "outputs": [],
      "source": [
        "%%time\n",
        "total = 0\n",
        "for i in range(1_000_000):\n",
        "    total += i"
      ],
      "id": "YJJ_Q1Kr7kVT"
    },
    {
      "cell_type": "markdown",
      "metadata": {
        "id": "w0jANt9E7kVT"
      },
      "source": [
        "## 2. Working with Files"
      ],
      "id": "w0jANt9E7kVT"
    },
    {
      "cell_type": "code",
      "execution_count": null,
      "metadata": {
        "id": "HiNvVk3k7kVT",
        "outputId": "b4fa2622-a630-429e-bdd7-7ab2a9ed9e60"
      },
      "outputs": [
        {
          "data": {
            "text/plain": [
              "'/Users/griffin/Sync/__currentCourses/3603-Programming-for-Data-Science/Assignments/05-Foundations'"
            ]
          },
          "execution_count": 2,
          "metadata": {},
          "output_type": "execute_result"
        }
      ],
      "source": [
        "%pwd"
      ],
      "id": "HiNvVk3k7kVT"
    },
    {
      "cell_type": "code",
      "execution_count": null,
      "metadata": {
        "id": "2a8lZVO87kVU",
        "outputId": "aa129ee7-5584-4580-e6de-c99c4e6812dd"
      },
      "outputs": [
        {
          "name": "stdout",
          "output_type": "stream",
          "text": [
            "magic_commands.ipynb\n"
          ]
        }
      ],
      "source": [
        "%ls"
      ],
      "id": "2a8lZVO87kVU"
    },
    {
      "cell_type": "code",
      "execution_count": null,
      "metadata": {
        "id": "kvawxwDE7kVU",
        "outputId": "8c88b622-d0f9-487f-a333-a5a5d04bb48c"
      },
      "outputs": [
        {
          "name": "stdout",
          "output_type": "stream",
          "text": [
            "/Users/griffin/Sync/__currentCourses/3603-Programming-for-Data-Science/Assignments\n"
          ]
        },
        {
          "data": {
            "text/plain": [
              "'/Users/griffin/Sync/__currentCourses/3603-Programming-for-Data-Science/Assignments'"
            ]
          },
          "execution_count": 4,
          "metadata": {},
          "output_type": "execute_result"
        }
      ],
      "source": [
        "%cd ..\n",
        "%pwd"
      ],
      "id": "kvawxwDE7kVU"
    },
    {
      "cell_type": "markdown",
      "metadata": {
        "id": "VSmzQlql7kVV"
      },
      "source": [
        "## 3. Variables in Memory"
      ],
      "id": "VSmzQlql7kVV"
    },
    {
      "cell_type": "code",
      "execution_count": null,
      "metadata": {
        "id": "Z0bpT70I7kVV",
        "outputId": "d2acd38d-cd0f-4f5d-a84a-b650dcab3d1e"
      },
      "outputs": [
        {
          "name": "stdout",
          "output_type": "stream",
          "text": [
            "a\t b\t c\t \n"
          ]
        }
      ],
      "source": [
        "a = 42\n",
        "b = [1, 2, 3]\n",
        "c = {\"name\": \"Graylian\"}\n",
        "\n",
        "%who"
      ],
      "id": "Z0bpT70I7kVV"
    },
    {
      "cell_type": "code",
      "execution_count": null,
      "metadata": {
        "id": "_JcESKZO7kVV",
        "outputId": "f77de336-7d4e-42d8-8083-72c67acb42ca"
      },
      "outputs": [
        {
          "name": "stdout",
          "output_type": "stream",
          "text": [
            "Variable   Type    Data/Info\n",
            "----------------------------\n",
            "a          int     42\n",
            "b          list    n=3\n",
            "c          dict    n=1\n"
          ]
        }
      ],
      "source": [
        "%whos"
      ],
      "id": "_JcESKZO7kVV"
    },
    {
      "cell_type": "code",
      "execution_count": null,
      "metadata": {
        "id": "GiGoDhLa7kVW"
      },
      "outputs": [],
      "source": [
        "# %reset"
      ],
      "id": "GiGoDhLa7kVW"
    },
    {
      "cell_type": "markdown",
      "metadata": {
        "id": "SKbEyTxS7kVW"
      },
      "source": [
        "## 4. Debugging and Introspection"
      ],
      "id": "SKbEyTxS7kVW"
    },
    {
      "cell_type": "code",
      "execution_count": null,
      "metadata": {
        "id": "Uu2Q70LB7kVW",
        "outputId": "b01491fa-bebc-4533-e5f8-e843495c2e94"
      },
      "outputs": [
        {
          "ename": "ZeroDivisionError",
          "evalue": "division by zero",
          "output_type": "error",
          "traceback": [
            "\u001b[31m---------------------------------------------------------------------------\u001b[39m",
            "\u001b[31mZeroDivisionError\u001b[39m                         Traceback (most recent call last)",
            "\u001b[36mCell\u001b[39m\u001b[36m \u001b[39m\u001b[32mIn[7]\u001b[39m\u001b[32m, line 1\u001b[39m\n\u001b[32m----> \u001b[39m\u001b[32m1\u001b[39m \u001b[32;43m1\u001b[39;49m\u001b[43m \u001b[49m\u001b[43m/\u001b[49m\u001b[43m \u001b[49m\u001b[32;43m0\u001b[39;49m\n",
            "\u001b[31mZeroDivisionError\u001b[39m: division by zero"
          ]
        }
      ],
      "source": [
        "1 / 0"
      ],
      "id": "Uu2Q70LB7kVW"
    },
    {
      "cell_type": "code",
      "execution_count": null,
      "metadata": {
        "id": "2U9wWiDf7kVW",
        "outputId": "923748c7-edf4-4f55-b16a-bc66b62f10bd"
      },
      "outputs": [
        {
          "name": "stdout",
          "output_type": "stream",
          "text": [
            "> \u001b[32m/var/folders/g5/h6gv0mcx1sj21bl9lkvg3ytc0000gn/T/ipykernel_9538/1455669704.py\u001b[39m(\u001b[92m1\u001b[39m)\u001b[36m<module>\u001b[39m\u001b[34m()\u001b[39m\n",
            "\u001b[32m----> 1\u001b[39m \u001b[32m1\u001b[39m / \u001b[32m0\u001b[39m\n",
            "\n"
          ]
        }
      ],
      "source": [
        "%debug"
      ],
      "id": "2U9wWiDf7kVW"
    },
    {
      "cell_type": "markdown",
      "metadata": {
        "id": "vPlpltO87kVX"
      },
      "source": [
        "## 5. Writing and Running Files"
      ],
      "id": "vPlpltO87kVX"
    },
    {
      "cell_type": "code",
      "execution_count": null,
      "metadata": {
        "id": "1iwc314h7kVX"
      },
      "outputs": [],
      "source": [
        "%%writefile hello.py\n",
        "print(\"Hello from a file!\")"
      ],
      "id": "1iwc314h7kVX"
    },
    {
      "cell_type": "code",
      "execution_count": null,
      "metadata": {
        "id": "NZ-vPcTT7kVY"
      },
      "outputs": [],
      "source": [
        "%run hello.py"
      ],
      "id": "NZ-vPcTT7kVY"
    },
    {
      "cell_type": "markdown",
      "metadata": {
        "id": "u2O9zIGl7kVY"
      },
      "source": [
        "## 6. Output and Formatting"
      ],
      "id": "u2O9zIGl7kVY"
    },
    {
      "cell_type": "code",
      "execution_count": null,
      "metadata": {
        "id": "XhnpkbqY7kVY"
      },
      "outputs": [],
      "source": [
        "%%capture cap\n",
        "print(\"This will not display right away\")\n",
        "\n",
        "cap.show()"
      ],
      "id": "XhnpkbqY7kVY"
    },
    {
      "cell_type": "code",
      "execution_count": null,
      "metadata": {
        "id": "dYumNP8d7kVY"
      },
      "outputs": [],
      "source": [
        "%%html\n",
        "<h1 style=\"color: maroon\">Magics are Magical ✨</h1>"
      ],
      "id": "dYumNP8d7kVY"
    },
    {
      "cell_type": "code",
      "execution_count": null,
      "metadata": {
        "id": "BQIiZg3r7kVZ"
      },
      "outputs": [],
      "source": [
        "%%markdown\n",
        "# This is a Markdown cell inside code!\n",
        "**Bold text** and *italic* still work."
      ],
      "id": "BQIiZg3r7kVZ"
    },
    {
      "cell_type": "markdown",
      "metadata": {
        "id": "vKcXaC1V7kVZ"
      },
      "source": [
        "## 7. Discover More"
      ],
      "id": "vKcXaC1V7kVZ"
    },
    {
      "cell_type": "code",
      "execution_count": null,
      "metadata": {
        "id": "L4p3LD247kVZ"
      },
      "outputs": [],
      "source": [
        "%lsmagic"
      ],
      "id": "L4p3LD247kVZ"
    },
    {
      "cell_type": "code",
      "execution_count": null,
      "metadata": {
        "id": "YHyFL01C7kVZ"
      },
      "outputs": [],
      "source": [
        "%timeit?"
      ],
      "id": "YHyFL01C7kVZ"
    },
    {
      "cell_type": "markdown",
      "metadata": {
        "id": "t7P-mKuc7kVa"
      },
      "source": [
        "✅ **Try It Yourself**:  \n",
        "- Use `%timeit` to compare a list comprehension `[x**2 for x in range(1000)]` vs a generator `(x**2 for x in range(1000))`.  \n",
        "- Use `%whos` after defining some variables to see their types.  \n",
        "- Use `%%html` to make your own banner."
      ],
      "id": "t7P-mKuc7kVa"
    },
    {
      "cell_type": "code",
      "source": [
        "# 1. Compare list comprehension vs generator with %timeit\n",
        "%timeit [x**2 for x in range(1000)]\n",
        "%timeit (x**2 for x in range(1000))\n",
        "\n",
        "# 2. Define some variables and use %whos\n",
        "name = \"Griffin\"\n",
        "nums = list(range(10))\n",
        "pi = 3.14159\n",
        "\n",
        "%whos\n",
        "\n",
        "# 3. Make your own banner with %%html\n",
        "%%html\n",
        "<h2 style=\"color: teal; text-align:center;\">\n",
        "Welcome to the Magic Commands Demo\n",
        "</h2>\n"
      ],
      "metadata": {
        "id": "8y1de3TF7yYf"
      },
      "id": "8y1de3TF7yYf",
      "execution_count": null,
      "outputs": []
    }
  ],
  "metadata": {
    "kernelspec": {
      "display_name": "env",
      "language": "python",
      "name": "python3"
    },
    "language_info": {
      "codemirror_mode": {
        "name": "ipython",
        "version": 3
      },
      "file_extension": ".py",
      "mimetype": "text/x-python",
      "name": "python",
      "nbconvert_exporter": "python",
      "pygments_lexer": "ipython3",
      "version": "3.13.7"
    },
    "colab": {
      "provenance": [],
      "include_colab_link": true
    }
  },
  "nbformat": 4,
  "nbformat_minor": 5
}