{
  "cells": [
    {
      "cell_type": "markdown",
      "metadata": {
        "id": "view-in-github",
        "colab_type": "text"
      },
      "source": [
        "<a href=\"https://colab.research.google.com/github/Skidmark156/username-DataScience-2025/blob/main/completed/01_lists_dicts_and_tuples.ipynb\" target=\"_parent\"><img src=\"https://colab.research.google.com/assets/colab-badge.svg\" alt=\"Open In Colab\"/></a>"
      ]
    },
    {
      "cell_type": "markdown",
      "metadata": {
        "id": "KZEwRMTaGdaw"
      },
      "source": [
        "# 🧠 Notebook 01: Lists, Dicts, and Tuples (Oh My!)\n",
        "\n",
        "Welcome, data tamer. Before we dance with DataFrames and juggle Series, we must first revisit the sacred scrolls of core Python data structures.\n",
        "\n",
        "In this notebook, you will:\n",
        "\n",
        "- Recap the mighty `list`, `dict`, `tuple`, and `set`\n",
        "- Learn what makes each special (besides being annoying to explain at parties)\n",
        "- Practice manipulating them with slicing, iteration, and comprehension\n",
        "- Build a mini dataset *by hand* to appreciate the beauty of Pandas later\n",
        "\n",
        "Let’s begin."
      ]
    },
    {
      "cell_type": "code",
      "execution_count": null,
      "metadata": {
        "id": "LkGSQTZEGda1"
      },
      "outputs": [],
      "source": [
        "# Lists: the Swiss Army Knife of Python\n",
        "students = [\"Alice\", \"Bob\", \"Charlie\", \"Diana\"]\n",
        "print(\"First student:\", students[0])"
      ]
    },
    {
      "cell_type": "markdown",
      "metadata": {
        "id": "h8dprPzTGda4"
      },
      "source": [
        "## 🧰 Tasks\n",
        "\n",
        "1. Create a list of your top 5 favorite foods. Print the last item using a negative index.\n",
        "2. Create a dictionary that maps student names to GPA (be kind). Add a new student.\n",
        "3. Make a tuple of the days of the week. Try to change one. Document what happens.\n",
        "4. Create a `set` of course names. Add a duplicate. Reflect on how sets feel about duplicates.\n",
        "\n",
        "🎯 Bonus: Use a list comprehension to build a list of all squares from 1–20."
      ]
    },
    {
      "cell_type": "code",
      "execution_count": null,
      "metadata": {
        "id": "69RY-3AaGda4"
      },
      "outputs": [],
      "source": [
        "# 1. Create a list of your top 5 favorite foods. Print the last item using a negative index.\n",
        "favorite_foods = [\"Pizza\", \"Sushi\", \"Burgers\", \"Tacos\", \"Ice Cream\"]\n",
        "print(\"My favorite foods:\", favorite_foods)\n",
        "print(\"Last item using negative index:\", favorite_foods[-1])\n",
        "\n",
        "# 2. Create a dictionary that maps student names to GPA (be kind). Add a new student.\n",
        "gpa_dict = {\n",
        "    \"Alice\": 3.8,\n",
        "    \"Bob\": 3.5,\n",
        "    \"Charlie\": 3.9,\n",
        "    \"Diana\": 3.7\n",
        "}\n",
        "print(\"Original GPA dictionary:\", gpa_dict)\n",
        "gpa_dict[\"Ethan\"] = 3.6   # Adding a new student\n",
        "print(\"After adding Ethan:\", gpa_dict)\n",
        "\n",
        "# 3. Make a tuple of the days of the week. Try to change one. Document what happens.\n",
        "days_of_week = (\"Monday\", \"Tuesday\", \"Wednesday\", \"Thursday\", \"Friday\", \"Saturday\", \"Sunday\")\n",
        "print(\"Days of the week:\", days_of_week)\n",
        "\n",
        "# Tuples are immutable, so the following will raise an error if uncommented:\n",
        "# days_of_week[0] = \"Funday\"\n",
        "\n",
        "# Explanation:\n",
        "# Tuples cannot be changed once created. If you try, Python will throw a TypeError.\n",
        "\n",
        "# 4. Create a set of course names. Add a duplicate. Reflect on how sets feel about duplicates.\n",
        "courses = {\"Math\", \"History\", \"Biology\", \"Computer Science\"}\n",
        "print(\"Original set of courses:\", courses)\n",
        "courses.add(\"Math\")  # Duplicate\n",
        "print(\"After adding duplicate 'Math':\", courses)\n",
        "\n",
        "# Reflection:\n",
        "# Sets automatically ignore duplicates. They only keep unique values.\n",
        "\n",
        "# Bonus: Use a list comprehension to build a list of all squares from 1–20.\n",
        "squares = [x**2 for x in range(1, 21)]\n",
        "print(\"Squares from 1–20:\", squares)"
      ]
    },
    {
      "cell_type": "markdown",
      "metadata": {
        "id": "hDe6VMMYGda5"
      },
      "source": [
        "---\n",
        "## 🧼 Why This Matters\n",
        "\n",
        "Before we start feeding `.csv` files into Pandas like a malfunctioning vending machine, we need to truly *feel* how data is structured. Python gives us these core data types to help shape, store, and manipulate data manually.\n",
        "\n",
        "You’ll thank yourself later. Or at least complain less. Maybe."
      ]
    }
  ],
  "metadata": {
    "kernelspec": {
      "display_name": "Python 3",
      "language": "python",
      "name": "python3"
    },
    "language_info": {
      "name": "python",
      "version": ""
    },
    "colab": {
      "provenance": [],
      "include_colab_link": true
    }
  },
  "nbformat": 4,
  "nbformat_minor": 0
}