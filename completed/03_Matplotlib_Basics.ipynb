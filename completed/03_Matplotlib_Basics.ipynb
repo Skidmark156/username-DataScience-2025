{
  "cells": [
    {
      "cell_type": "markdown",
      "metadata": {
        "id": "view-in-github",
        "colab_type": "text"
      },
      "source": [
        "<a href=\"https://colab.research.google.com/github/Skidmark156/username-DataScience-2025/blob/main/completed/03_Matplotlib_Basics.ipynb\" target=\"_parent\"><img src=\"https://colab.research.google.com/assets/colab-badge.svg\" alt=\"Open In Colab\"/></a>"
      ]
    },
    {
      "cell_type": "markdown",
      "metadata": {
        "id": "B5Urwh4Jhkez"
      },
      "source": [
        "# 🎨 Matplotlib Basics\n",
        "\n",
        "Matplotlib is the **foundational plotting library** in Python.\n",
        "It's powerful (but sometimes verbose). Think of it as the 'engine' that other libraries (like Seaborn) build on top of.\n",
        "\n",
        "This notebook covers:\n",
        "- Anatomy of a plot (`figure`, `axes`)\n",
        "- Line, bar, scatter, and histogram basics\n",
        "- Labels, titles, legends, and gridlines\n",
        "- Customizing colors and styles"
      ]
    },
    {
      "cell_type": "markdown",
      "metadata": {
        "id": "4b3iEGJwhke1"
      },
      "source": [
        "## 1. Importing Matplotlib\n",
        "\n",
        "The most common convention is:"
      ]
    },
    {
      "cell_type": "code",
      "metadata": {
        "id": "bfM7Cr3Thke2"
      },
      "source": [
        "import matplotlib.pyplot as plt\n",
        "import numpy as np\n",
        "\n",
        "# Simple data\n",
        "x = np.linspace(0, 10, 100)\n",
        "y = np.sin(x)\n",
        "\n",
        "plt.plot(x, y)\n",
        "plt.show()"
      ],
      "execution_count": null,
      "outputs": []
    },
    {
      "cell_type": "markdown",
      "metadata": {
        "id": "1EwmiJq7hke3"
      },
      "source": [
        "👉 The `.plot()` function is the workhorse for line charts."
      ]
    },
    {
      "cell_type": "markdown",
      "metadata": {
        "id": "JWtBVbLghke4"
      },
      "source": [
        "## 2. Anatomy of a Plot\n",
        "\n",
        "- **Figure**: the whole canvas\n",
        "- **Axes**: an individual plot within the figure\n",
        "\n",
        "We can be explicit about creating them:"
      ]
    },
    {
      "cell_type": "code",
      "metadata": {
        "id": "rmQn20-5hke4"
      },
      "source": [
        "fig, ax = plt.subplots()\n",
        "ax.plot(x, y)\n",
        "ax.set_title(\"A Sine Wave\")\n",
        "ax.set_xlabel(\"X-axis\")\n",
        "ax.set_ylabel(\"Y-axis\")\n",
        "plt.show()"
      ],
      "execution_count": null,
      "outputs": []
    },
    {
      "cell_type": "markdown",
      "metadata": {
        "id": "S-kBEgm_hke5"
      },
      "source": [
        "👉 Using `ax.set_*` is cleaner when making multiple plots."
      ]
    },
    {
      "cell_type": "markdown",
      "metadata": {
        "id": "fqov8blbhke5"
      },
      "source": [
        "## 3. Basic Plot Types\n",
        "\n",
        "### Line Plot"
      ]
    },
    {
      "cell_type": "code",
      "metadata": {
        "id": "IEY2K8OBhke6"
      },
      "source": [
        "plt.plot(x, y, label=\"sin(x)\", color=\"blue\")\n",
        "plt.plot(x, np.cos(x), label=\"cos(x)\", color=\"red\")\n",
        "plt.title(\"Line Plot Example\")\n",
        "plt.xlabel(\"X\")\n",
        "plt.ylabel(\"Y\")\n",
        "plt.legend()\n",
        "plt.grid(True)\n",
        "plt.show()"
      ],
      "execution_count": null,
      "outputs": []
    },
    {
      "cell_type": "markdown",
      "metadata": {
        "id": "Msa07ht_hke6"
      },
      "source": [
        "### Bar Plot"
      ]
    },
    {
      "cell_type": "code",
      "metadata": {
        "id": "XfbI-Qb1hke7"
      },
      "source": [
        "categories = [\"A\", \"B\", \"C\", \"D\"]\n",
        "values = [3, 7, 5, 2]\n",
        "\n",
        "plt.bar(categories, values, color=\"purple\")\n",
        "plt.title(\"Bar Plot Example\")\n",
        "plt.show()"
      ],
      "execution_count": null,
      "outputs": []
    },
    {
      "cell_type": "markdown",
      "metadata": {
        "id": "HLwI7-bzhke7"
      },
      "source": [
        "### Scatter Plot"
      ]
    },
    {
      "cell_type": "code",
      "metadata": {
        "id": "nlL2bZ4Rhke7"
      },
      "source": [
        "np.random.seed(42)\n",
        "x = np.random.rand(50)\n",
        "y = np.random.rand(50)\n",
        "\n",
        "plt.scatter(x, y, color=\"green\", marker=\"o\")\n",
        "plt.title(\"Scatter Plot Example\")\n",
        "plt.show()"
      ],
      "execution_count": null,
      "outputs": []
    },
    {
      "cell_type": "markdown",
      "metadata": {
        "id": "8PuJsrUwhke7"
      },
      "source": [
        "### Histogram"
      ]
    },
    {
      "cell_type": "code",
      "metadata": {
        "id": "GAc50jDdhke8"
      },
      "source": [
        "data = np.random.randn(1000)\n",
        "plt.hist(data, bins=30, color=\"orange\", edgecolor=\"black\")\n",
        "plt.title(\"Histogram Example\")\n",
        "plt.show()"
      ],
      "execution_count": null,
      "outputs": []
    },
    {
      "cell_type": "markdown",
      "metadata": {
        "id": "N-vJddnchke8"
      },
      "source": [
        "## 4. Customizing Styles\n",
        "\n",
        "Matplotlib has built-in styles:"
      ]
    },
    {
      "cell_type": "code",
      "metadata": {
        "id": "t9jHGyfPhke8"
      },
      "source": [
        "plt.style.available[:10]  # show some available styles"
      ],
      "execution_count": null,
      "outputs": []
    },
    {
      "cell_type": "code",
      "metadata": {
        "colab": {
          "base_uri": "https://localhost:8080/",
          "height": 211
        },
        "collapsed": true,
        "id": "ulDeQmzxhke8",
        "outputId": "e4e79f3a-198a-4cf0-9772-44684506b09e"
      },
      "source": [
        "import matplotlib.pyplot as plt\n",
        "plt.style.use('ggplot')\n",
        "plt.plot(np.cumsum(np.random.randn(100)))\n",
        "plt.title(\"Styled Plot (ggplot)\")\n",
        "plt.show()\n",
        "\n",
        "plt.style.use('default')  # reset to default"
      ],
      "execution_count": null,
      "outputs": [
        {
          "output_type": "error",
          "ename": "NameError",
          "evalue": "name 'plt' is not defined",
          "traceback": [
            "\u001b[0;31m---------------------------------------------------------------------------\u001b[0m",
            "\u001b[0;31mNameError\u001b[0m                                 Traceback (most recent call last)",
            "\u001b[0;32m/tmp/ipython-input-3271468099.py\u001b[0m in \u001b[0;36m<cell line: 0>\u001b[0;34m()\u001b[0m\n\u001b[0;32m----> 1\u001b[0;31m \u001b[0mplt\u001b[0m\u001b[0;34m.\u001b[0m\u001b[0mstyle\u001b[0m\u001b[0;34m.\u001b[0m\u001b[0muse\u001b[0m\u001b[0;34m(\u001b[0m\u001b[0;34m'ggplot'\u001b[0m\u001b[0;34m)\u001b[0m\u001b[0;34m\u001b[0m\u001b[0;34m\u001b[0m\u001b[0m\n\u001b[0m\u001b[1;32m      2\u001b[0m \u001b[0mplt\u001b[0m\u001b[0;34m.\u001b[0m\u001b[0mplot\u001b[0m\u001b[0;34m(\u001b[0m\u001b[0mnp\u001b[0m\u001b[0;34m.\u001b[0m\u001b[0mcumsum\u001b[0m\u001b[0;34m(\u001b[0m\u001b[0mnp\u001b[0m\u001b[0;34m.\u001b[0m\u001b[0mrandom\u001b[0m\u001b[0;34m.\u001b[0m\u001b[0mrandn\u001b[0m\u001b[0;34m(\u001b[0m\u001b[0;36m100\u001b[0m\u001b[0;34m)\u001b[0m\u001b[0;34m)\u001b[0m\u001b[0;34m)\u001b[0m\u001b[0;34m\u001b[0m\u001b[0;34m\u001b[0m\u001b[0m\n\u001b[1;32m      3\u001b[0m \u001b[0mplt\u001b[0m\u001b[0;34m.\u001b[0m\u001b[0mtitle\u001b[0m\u001b[0;34m(\u001b[0m\u001b[0;34m\"Styled Plot (ggplot)\"\u001b[0m\u001b[0;34m)\u001b[0m\u001b[0;34m\u001b[0m\u001b[0;34m\u001b[0m\u001b[0m\n\u001b[1;32m      4\u001b[0m \u001b[0mplt\u001b[0m\u001b[0;34m.\u001b[0m\u001b[0mshow\u001b[0m\u001b[0;34m(\u001b[0m\u001b[0;34m)\u001b[0m\u001b[0;34m\u001b[0m\u001b[0;34m\u001b[0m\u001b[0m\n\u001b[1;32m      5\u001b[0m \u001b[0;34m\u001b[0m\u001b[0m\n",
            "\u001b[0;31mNameError\u001b[0m: name 'plt' is not defined"
          ]
        }
      ]
    },
    {
      "cell_type": "markdown",
      "metadata": {
        "id": "Pq3mCylNhke8"
      },
      "source": [
        "---\n",
        "✅ Now you know the basics of Matplotlib! Next up → [Seaborn Basics](04-Seaborn_Basics.ipynb)"
      ]
    }
  ],
  "metadata": {
    "kernelspec": {
      "display_name": "Python 3",
      "language": "python",
      "name": "python3"
    },
    "language_info": {
      "name": "python",
      "version": "3.10"
    },
    "colab": {
      "provenance": [],
      "include_colab_link": true
    }
  },
  "nbformat": 4,
  "nbformat_minor": 0
}