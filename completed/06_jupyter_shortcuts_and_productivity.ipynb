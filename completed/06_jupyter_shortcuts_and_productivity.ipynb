{
  "cells": [
    {
      "cell_type": "markdown",
      "metadata": {
        "id": "view-in-github",
        "colab_type": "text"
      },
      "source": [
        "<a href=\"https://colab.research.google.com/github/Skidmark156/username-DataScience-2025/blob/main/completed/06_jupyter_shortcuts_and_productivity.ipynb\" target=\"_parent\"><img src=\"https://colab.research.google.com/assets/colab-badge.svg\" alt=\"Open In Colab\"/></a>"
      ]
    },
    {
      "cell_type": "markdown",
      "metadata": {
        "id": "_yEj5EbTEwBD"
      },
      "source": [
        "# ⚡ 06 - Jupyter Shortcuts and Productivity\n",
        "\n",
        "Jupyter notebooks have **keyboard shortcuts and tricks** that make you faster.  \n",
        "In this notebook you will learn:\n",
        "- Command vs. Edit mode\n",
        "- Essential keyboard shortcuts\n",
        "- Saving and exporting notebooks\n",
        "- Using `%history` and `%save`\n"
      ],
      "id": "_yEj5EbTEwBD"
    },
    {
      "cell_type": "markdown",
      "metadata": {
        "id": "PMnDuj9NEwBG"
      },
      "source": [
        "## 1. Modes in Jupyter"
      ],
      "id": "PMnDuj9NEwBG"
    },
    {
      "cell_type": "markdown",
      "metadata": {
        "id": "c1Tx5c0PEwBH"
      },
      "source": [
        "- **Edit mode** (green border, type in cell)\n",
        "- **Command mode** (blue border, issue commands on the notebook)\n",
        "\n",
        "Switch:\n",
        "- Press `Enter` → Edit mode\n",
        "- Press `Esc` → Command mode"
      ],
      "id": "c1Tx5c0PEwBH"
    },
    {
      "cell_type": "markdown",
      "metadata": {
        "id": "2_wg831XEwBH"
      },
      "source": [
        "✅ **Your Turn**: Try switching between Edit and Command mode and notice the border color."
      ],
      "id": "2_wg831XEwBH"
    },
    {
      "cell_type": "code",
      "source": [],
      "metadata": {
        "id": "_4l0QYMXFCwo"
      },
      "id": "_4l0QYMXFCwo",
      "execution_count": null,
      "outputs": []
    },
    {
      "cell_type": "markdown",
      "metadata": {
        "id": "k_NL4-nmEwBI"
      },
      "source": [
        "## 2. Common Shortcuts"
      ],
      "id": "k_NL4-nmEwBI"
    },
    {
      "cell_type": "markdown",
      "metadata": {
        "id": "LtfHSQr7EwBI"
      },
      "source": [
        "- `A` → Insert cell Above\n",
        "- `B` → Insert cell Below\n",
        "- `D D` → Delete a cell\n",
        "- `M` → Change to Markdown cell\n",
        "- `Y` → Change to Code cell\n",
        "- `Shift + Enter` → Run cell and move to next\n",
        "- `Ctrl + Enter` → Run cell, stay put\n",
        "- `Alt + Enter` → Run cell and insert new one below"
      ],
      "id": "LtfHSQr7EwBI"
    },
    {
      "cell_type": "markdown",
      "metadata": {
        "id": "tJaxQ-aNEwBJ"
      },
      "source": [
        "✅ **Your Turn**: Practice creating, deleting, and changing cell types using only shortcuts."
      ],
      "id": "tJaxQ-aNEwBJ"
    },
    {
      "cell_type": "code",
      "source": [],
      "metadata": {
        "id": "sjCvpwVvFeMG"
      },
      "id": "sjCvpwVvFeMG",
      "execution_count": null,
      "outputs": []
    },
    {
      "cell_type": "markdown",
      "metadata": {
        "id": "Wnja60r_EwBJ"
      },
      "source": [
        "## 3. Saving and Exporting"
      ],
      "id": "Wnja60r_EwBJ"
    },
    {
      "cell_type": "markdown",
      "metadata": {
        "id": "jwj65GWzEwBJ"
      },
      "source": [
        "- `Ctrl + S` (or `Cmd + S` on Mac) → Save notebook\n",
        "- Menu: *File → Download as…* → export to `.py`, `.html`, or `.pdf`\n",
        "- GitHub + Colab workflow: commit changes back to your repo directly"
      ],
      "id": "jwj65GWzEwBJ"
    },
    {
      "cell_type": "markdown",
      "metadata": {
        "id": "ZtgAHABxEwBK"
      },
      "source": [
        "✅ **Your Turn**: Save this notebook, then try exporting to `.py` or `.html` from the File menu."
      ],
      "id": "ZtgAHABxEwBK"
    },
    {
      "cell_type": "markdown",
      "metadata": {
        "id": "n6EvMUOpEwBK"
      },
      "source": [
        "## 4. History and Saving Code"
      ],
      "id": "n6EvMUOpEwBK"
    },
    {
      "cell_type": "code",
      "execution_count": null,
      "metadata": {
        "id": "OZbiw63XEwBK"
      },
      "outputs": [],
      "source": [
        "%history -n 1-5  # Show the first 5 commands in this session"
      ],
      "id": "OZbiw63XEwBK"
    },
    {
      "cell_type": "code",
      "execution_count": null,
      "metadata": {
        "id": "5Gq8IeloEwBL"
      },
      "outputs": [],
      "source": [
        "# Save history to a file\n",
        "%save my_session.py 1-5"
      ],
      "id": "5Gq8IeloEwBL"
    },
    {
      "cell_type": "markdown",
      "metadata": {
        "id": "sWyumRI6EwBL"
      },
      "source": [
        "✅ **Your Turn**: Use `%history` to view the last 10 commands you ran, then save them to `last10.py`."
      ],
      "id": "sWyumRI6EwBL"
    },
    {
      "cell_type": "code",
      "source": [
        "# Show the last 10 commands\n",
        "%history -n -10\n",
        "\n",
        "# Save them to a file\n",
        "%save last10.py -10"
      ],
      "metadata": {
        "id": "LsuoqG-3FhwQ",
        "outputId": "4bf25ad4-a805-44fc-a955-1538e72b1dba",
        "colab": {
          "base_uri": "https://localhost:8080/"
        }
      },
      "id": "LsuoqG-3FhwQ",
      "execution_count": null,
      "outputs": [
        {
          "output_type": "stream",
          "name": "stdout",
          "text": [
            "-10 is neither a string nor a macro.\n"
          ]
        }
      ]
    },
    {
      "cell_type": "markdown",
      "metadata": {
        "id": "6s-WzSkXEwBM"
      },
      "source": [
        "---\n",
        "### Summary\n",
        "- Command vs Edit mode controls how you interact with cells.\n",
        "- Shortcuts make notebook use much faster.\n",
        "- You can export notebooks to share or turn them into scripts.\n",
        "- `%history` and `%save` help you capture your work.\n"
      ],
      "id": "6s-WzSkXEwBM"
    }
  ],
  "metadata": {
    "kernelspec": {
      "display_name": "Python 3",
      "language": "python",
      "name": "python3"
    },
    "language_info": {
      "name": "python",
      "version": "3.x"
    },
    "colab": {
      "provenance": [],
      "include_colab_link": true
    }
  },
  "nbformat": 4,
  "nbformat_minor": 5
}